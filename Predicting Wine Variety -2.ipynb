{
 "cells": [
  {
   "cell_type": "markdown",
   "metadata": {},
   "source": [
    "### Importing Library"
   ]
  },
  {
   "cell_type": "code",
   "execution_count": 1,
   "metadata": {},
   "outputs": [],
   "source": [
    "import pandas as pd\n",
    "import numpy as np\n",
    "import matplotlib as plt"
   ]
  },
  {
   "cell_type": "markdown",
   "metadata": {},
   "source": [
    "### Importing Dataset"
   ]
  },
  {
   "cell_type": "code",
   "execution_count": 2,
   "metadata": {},
   "outputs": [],
   "source": [
    "train = pd.read_csv(\"train.csv\")\n",
    "test = pd.read_csv(\"test.csv\")"
   ]
  },
  {
   "cell_type": "markdown",
   "metadata": {},
   "source": [
    "### Shape of Data"
   ]
  },
  {
   "cell_type": "code",
   "execution_count": 3,
   "metadata": {},
   "outputs": [
    {
     "data": {
      "text/plain": [
       "((82657, 12), (20665, 11))"
      ]
     },
     "execution_count": 3,
     "metadata": {},
     "output_type": "execute_result"
    }
   ],
   "source": [
    "train.shape,test.shape"
   ]
  },
  {
   "cell_type": "markdown",
   "metadata": {},
   "source": [
    "### Train columns"
   ]
  },
  {
   "cell_type": "code",
   "execution_count": 4,
   "metadata": {},
   "outputs": [
    {
     "data": {
      "text/plain": [
       "Index(['user_name', 'country', 'review_title', 'review_description',\n",
       "       'designation', 'points', 'price', 'province', 'region_1', 'region_2',\n",
       "       'winery', 'variety'],\n",
       "      dtype='object')"
      ]
     },
     "execution_count": 4,
     "metadata": {},
     "output_type": "execute_result"
    }
   ],
   "source": [
    "train.columns"
   ]
  },
  {
   "cell_type": "markdown",
   "metadata": {},
   "source": [
    "### test columns"
   ]
  },
  {
   "cell_type": "code",
   "execution_count": 5,
   "metadata": {},
   "outputs": [
    {
     "data": {
      "text/plain": [
       "Index(['user_name', 'country', 'review_title', 'review_description',\n",
       "       'designation', 'points', 'price', 'province', 'region_1', 'region_2',\n",
       "       'winery'],\n",
       "      dtype='object')"
      ]
     },
     "execution_count": 5,
     "metadata": {},
     "output_type": "execute_result"
    }
   ],
   "source": [
    "test.columns"
   ]
  },
  {
   "cell_type": "markdown",
   "metadata": {},
   "source": [
    "### Head of Train data"
   ]
  },
  {
   "cell_type": "code",
   "execution_count": 6,
   "metadata": {
    "scrolled": true
   },
   "outputs": [
    {
     "data": {
      "text/html": [
       "<div>\n",
       "<style scoped>\n",
       "    .dataframe tbody tr th:only-of-type {\n",
       "        vertical-align: middle;\n",
       "    }\n",
       "\n",
       "    .dataframe tbody tr th {\n",
       "        vertical-align: top;\n",
       "    }\n",
       "\n",
       "    .dataframe thead th {\n",
       "        text-align: right;\n",
       "    }\n",
       "</style>\n",
       "<table border=\"1\" class=\"dataframe\">\n",
       "  <thead>\n",
       "    <tr style=\"text-align: right;\">\n",
       "      <th></th>\n",
       "      <th>user_name</th>\n",
       "      <th>country</th>\n",
       "      <th>review_title</th>\n",
       "      <th>review_description</th>\n",
       "      <th>designation</th>\n",
       "      <th>points</th>\n",
       "      <th>price</th>\n",
       "      <th>province</th>\n",
       "      <th>region_1</th>\n",
       "      <th>region_2</th>\n",
       "      <th>winery</th>\n",
       "      <th>variety</th>\n",
       "    </tr>\n",
       "  </thead>\n",
       "  <tbody>\n",
       "    <tr>\n",
       "      <th>0</th>\n",
       "      <td>NaN</td>\n",
       "      <td>Australia</td>\n",
       "      <td>Andrew Peace 2007 Peace Family Vineyard Chardo...</td>\n",
       "      <td>Classic Chardonnay aromas of apple, pear and h...</td>\n",
       "      <td>Peace Family Vineyard</td>\n",
       "      <td>83</td>\n",
       "      <td>10.0</td>\n",
       "      <td>Australia Other</td>\n",
       "      <td>South Eastern Australia</td>\n",
       "      <td>NaN</td>\n",
       "      <td>Andrew Peace</td>\n",
       "      <td>Chardonnay</td>\n",
       "    </tr>\n",
       "    <tr>\n",
       "      <th>1</th>\n",
       "      <td>@wawinereport</td>\n",
       "      <td>US</td>\n",
       "      <td>North by Northwest 2014 Red (Columbia Valley (...</td>\n",
       "      <td>This wine is near equal parts Syrah and Merlot...</td>\n",
       "      <td>NaN</td>\n",
       "      <td>89</td>\n",
       "      <td>15.0</td>\n",
       "      <td>Washington</td>\n",
       "      <td>Columbia Valley (WA)</td>\n",
       "      <td>Columbia Valley</td>\n",
       "      <td>North by Northwest</td>\n",
       "      <td>Red Blend</td>\n",
       "    </tr>\n",
       "    <tr>\n",
       "      <th>2</th>\n",
       "      <td>NaN</td>\n",
       "      <td>Italy</td>\n",
       "      <td>Renato Ratti 2007 Conca  (Barolo)</td>\n",
       "      <td>Barolo Conca opens with inky dark concentratio...</td>\n",
       "      <td>Conca</td>\n",
       "      <td>94</td>\n",
       "      <td>80.0</td>\n",
       "      <td>Piedmont</td>\n",
       "      <td>Barolo</td>\n",
       "      <td>NaN</td>\n",
       "      <td>Renato Ratti</td>\n",
       "      <td>Nebbiolo</td>\n",
       "    </tr>\n",
       "    <tr>\n",
       "      <th>3</th>\n",
       "      <td>@vossroger</td>\n",
       "      <td>France</td>\n",
       "      <td>Domaine l'Ancienne Cure 2010 L'Abbaye White (B...</td>\n",
       "      <td>It's impressive what a small addition of Sauvi...</td>\n",
       "      <td>L'Abbaye</td>\n",
       "      <td>87</td>\n",
       "      <td>22.0</td>\n",
       "      <td>Southwest France</td>\n",
       "      <td>Bergerac Sec</td>\n",
       "      <td>NaN</td>\n",
       "      <td>Domaine l'Ancienne Cure</td>\n",
       "      <td>Bordeaux-style White Blend</td>\n",
       "    </tr>\n",
       "    <tr>\n",
       "      <th>4</th>\n",
       "      <td>@vossroger</td>\n",
       "      <td>France</td>\n",
       "      <td>Château du Cèdre 2012 Le Cèdre Vintage Malbec ...</td>\n",
       "      <td>This ripe, sweet wine is rich and full of drie...</td>\n",
       "      <td>Le Cèdre Vintage</td>\n",
       "      <td>88</td>\n",
       "      <td>33.0</td>\n",
       "      <td>France Other</td>\n",
       "      <td>Vin de Liqueur</td>\n",
       "      <td>NaN</td>\n",
       "      <td>Château du Cèdre</td>\n",
       "      <td>Malbec</td>\n",
       "    </tr>\n",
       "  </tbody>\n",
       "</table>\n",
       "</div>"
      ],
      "text/plain": [
       "       user_name    country  \\\n",
       "0            NaN  Australia   \n",
       "1  @wawinereport         US   \n",
       "2            NaN      Italy   \n",
       "3     @vossroger     France   \n",
       "4     @vossroger     France   \n",
       "\n",
       "                                        review_title  \\\n",
       "0  Andrew Peace 2007 Peace Family Vineyard Chardo...   \n",
       "1  North by Northwest 2014 Red (Columbia Valley (...   \n",
       "2                  Renato Ratti 2007 Conca  (Barolo)   \n",
       "3  Domaine l'Ancienne Cure 2010 L'Abbaye White (B...   \n",
       "4  Château du Cèdre 2012 Le Cèdre Vintage Malbec ...   \n",
       "\n",
       "                                  review_description            designation  \\\n",
       "0  Classic Chardonnay aromas of apple, pear and h...  Peace Family Vineyard   \n",
       "1  This wine is near equal parts Syrah and Merlot...                    NaN   \n",
       "2  Barolo Conca opens with inky dark concentratio...                  Conca   \n",
       "3  It's impressive what a small addition of Sauvi...               L'Abbaye   \n",
       "4  This ripe, sweet wine is rich and full of drie...       Le Cèdre Vintage   \n",
       "\n",
       "   points  price          province                 region_1         region_2  \\\n",
       "0      83   10.0   Australia Other  South Eastern Australia              NaN   \n",
       "1      89   15.0        Washington     Columbia Valley (WA)  Columbia Valley   \n",
       "2      94   80.0          Piedmont                   Barolo              NaN   \n",
       "3      87   22.0  Southwest France             Bergerac Sec              NaN   \n",
       "4      88   33.0      France Other           Vin de Liqueur              NaN   \n",
       "\n",
       "                    winery                     variety  \n",
       "0             Andrew Peace                  Chardonnay  \n",
       "1       North by Northwest                   Red Blend  \n",
       "2             Renato Ratti                    Nebbiolo  \n",
       "3  Domaine l'Ancienne Cure  Bordeaux-style White Blend  \n",
       "4         Château du Cèdre                      Malbec  "
      ]
     },
     "execution_count": 6,
     "metadata": {},
     "output_type": "execute_result"
    }
   ],
   "source": [
    "train.head()"
   ]
  },
  {
   "cell_type": "markdown",
   "metadata": {},
   "source": [
    "## EDA"
   ]
  },
  {
   "cell_type": "markdown",
   "metadata": {},
   "source": [
    "### statistical description "
   ]
  },
  {
   "cell_type": "markdown",
   "metadata": {},
   "source": [
    "Using describe method from pandas. It will return us information about:\n",
    "\n",
    "1.mean\n",
    "\n",
    "2.standard deviation\n",
    "\n",
    "3.minimum value\n",
    "\n",
    "4.maximum value\n",
    "\n",
    "5.25%,50%,75% quantille"
   ]
  },
  {
   "cell_type": "code",
   "execution_count": 7,
   "metadata": {},
   "outputs": [
    {
     "data": {
      "text/html": [
       "<div>\n",
       "<style scoped>\n",
       "    .dataframe tbody tr th:only-of-type {\n",
       "        vertical-align: middle;\n",
       "    }\n",
       "\n",
       "    .dataframe tbody tr th {\n",
       "        vertical-align: top;\n",
       "    }\n",
       "\n",
       "    .dataframe thead th {\n",
       "        text-align: right;\n",
       "    }\n",
       "</style>\n",
       "<table border=\"1\" class=\"dataframe\">\n",
       "  <thead>\n",
       "    <tr style=\"text-align: right;\">\n",
       "      <th></th>\n",
       "      <th>points</th>\n",
       "      <th>price</th>\n",
       "    </tr>\n",
       "  </thead>\n",
       "  <tbody>\n",
       "    <tr>\n",
       "      <th>count</th>\n",
       "      <td>82657.000000</td>\n",
       "      <td>77088.000000</td>\n",
       "    </tr>\n",
       "    <tr>\n",
       "      <th>mean</th>\n",
       "      <td>88.544564</td>\n",
       "      <td>36.922232</td>\n",
       "    </tr>\n",
       "    <tr>\n",
       "      <th>std</th>\n",
       "      <td>3.099649</td>\n",
       "      <td>43.698346</td>\n",
       "    </tr>\n",
       "    <tr>\n",
       "      <th>min</th>\n",
       "      <td>80.000000</td>\n",
       "      <td>4.000000</td>\n",
       "    </tr>\n",
       "    <tr>\n",
       "      <th>25%</th>\n",
       "      <td>86.000000</td>\n",
       "      <td>18.000000</td>\n",
       "    </tr>\n",
       "    <tr>\n",
       "      <th>50%</th>\n",
       "      <td>88.000000</td>\n",
       "      <td>27.000000</td>\n",
       "    </tr>\n",
       "    <tr>\n",
       "      <th>75%</th>\n",
       "      <td>91.000000</td>\n",
       "      <td>45.000000</td>\n",
       "    </tr>\n",
       "    <tr>\n",
       "      <th>max</th>\n",
       "      <td>100.000000</td>\n",
       "      <td>3300.000000</td>\n",
       "    </tr>\n",
       "  </tbody>\n",
       "</table>\n",
       "</div>"
      ],
      "text/plain": [
       "             points         price\n",
       "count  82657.000000  77088.000000\n",
       "mean      88.544564     36.922232\n",
       "std        3.099649     43.698346\n",
       "min       80.000000      4.000000\n",
       "25%       86.000000     18.000000\n",
       "50%       88.000000     27.000000\n",
       "75%       91.000000     45.000000\n",
       "max      100.000000   3300.000000"
      ]
     },
     "execution_count": 7,
     "metadata": {},
     "output_type": "execute_result"
    }
   ],
   "source": [
    "train.describe()"
   ]
  },
  {
   "cell_type": "markdown",
   "metadata": {},
   "source": [
    "In our dataset only price is continous variable and we can also see on minimum and maximium value there is really high diverse in price feature.\n",
    "\n",
    "There is wine which cost 3300 dollars , but we can see that 75 percent of wines are cheaper than 45 dollars."
   ]
  },
  {
   "cell_type": "markdown",
   "metadata": {},
   "source": [
    "### Duplicates.\n",
    "\n",
    "\n",
    "First of all let's explore our data. On first look into data we can see that there are many duplicates, which we have to drop.\n",
    "\n",
    "Let's see how many duplicates are in the data."
   ]
  },
  {
   "cell_type": "code",
   "execution_count": 8,
   "metadata": {},
   "outputs": [
    {
     "data": {
      "text/plain": [
       "Index(['user_name', 'country', 'review_title', 'review_description',\n",
       "       'designation', 'points', 'price', 'province', 'region_1', 'region_2',\n",
       "       'winery', 'variety'],\n",
       "      dtype='object')"
      ]
     },
     "execution_count": 8,
     "metadata": {},
     "output_type": "execute_result"
    }
   ],
   "source": [
    "train.columns"
   ]
  },
  {
   "cell_type": "code",
   "execution_count": 9,
   "metadata": {},
   "outputs": [
    {
     "name": "stdout",
     "output_type": "stream",
     "text": [
      "Total number of examples:  82657\n",
      "Number of examples with the same title and description:  5016\n"
     ]
    }
   ],
   "source": [
    "print(\"Total number of examples: \", train.shape[0])\n",
    "print(\"Number of examples with the same title and description: \", train[train.duplicated(['review_description','review_title'])].shape[0])"
   ]
  },
  {
   "cell_type": "markdown",
   "metadata": {},
   "source": [
    "We can see that there are almost 5k records with the same title and description. \n",
    "We should drop rows columns in order to get proper result"
   ]
  },
  {
   "cell_type": "code",
   "execution_count": 10,
   "metadata": {},
   "outputs": [],
   "source": [
    "train=train.drop_duplicates(['review_description','review_title'])\n",
    "train=train.reset_index(drop=True)"
   ]
  },
  {
   "cell_type": "code",
   "execution_count": 11,
   "metadata": {},
   "outputs": [
    {
     "data": {
      "text/plain": [
       "(77641, 12)"
      ]
     },
     "execution_count": 11,
     "metadata": {},
     "output_type": "execute_result"
    }
   ],
   "source": [
    "train.shape"
   ]
  },
  {
   "cell_type": "markdown",
   "metadata": {},
   "source": [
    "### Missing values.\n",
    "\n",
    "Now, we will investigate our dataset in order to see how many missing values there is."
   ]
  },
  {
   "cell_type": "code",
   "execution_count": 12,
   "metadata": {},
   "outputs": [
    {
     "name": "stdout",
     "output_type": "stream",
     "text": [
      "<class 'pandas.core.frame.DataFrame'>\n",
      "RangeIndex: 77641 entries, 0 to 77640\n",
      "Data columns (total 12 columns):\n",
      " #   Column              Non-Null Count  Dtype  \n",
      "---  ------              --------------  -----  \n",
      " 0   user_name           59105 non-null  object \n",
      " 1   country             77608 non-null  object \n",
      " 2   review_title        77641 non-null  object \n",
      " 3   review_description  77641 non-null  object \n",
      " 4   designation         55458 non-null  object \n",
      " 5   points              77641 non-null  int64  \n",
      " 6   price               72356 non-null  float64\n",
      " 7   province            77608 non-null  object \n",
      " 8   region_1            65680 non-null  object \n",
      " 9   region_2            33814 non-null  object \n",
      " 10  winery              77641 non-null  object \n",
      " 11  variety             77641 non-null  object \n",
      "dtypes: float64(1), int64(1), object(10)\n",
      "memory usage: 7.1+ MB\n"
     ]
    }
   ],
   "source": [
    "train.info()"
   ]
  },
  {
   "cell_type": "markdown",
   "metadata": {},
   "source": [
    "We see that there is huge number of missing values. Let's see how many percent."
   ]
  },
  {
   "cell_type": "code",
   "execution_count": 13,
   "metadata": {},
   "outputs": [
    {
     "data": {
      "text/html": [
       "<div>\n",
       "<style scoped>\n",
       "    .dataframe tbody tr th:only-of-type {\n",
       "        vertical-align: middle;\n",
       "    }\n",
       "\n",
       "    .dataframe tbody tr th {\n",
       "        vertical-align: top;\n",
       "    }\n",
       "\n",
       "    .dataframe thead th {\n",
       "        text-align: right;\n",
       "    }\n",
       "</style>\n",
       "<table border=\"1\" class=\"dataframe\">\n",
       "  <thead>\n",
       "    <tr style=\"text-align: right;\">\n",
       "      <th></th>\n",
       "      <th>Total</th>\n",
       "      <th>Percent</th>\n",
       "    </tr>\n",
       "  </thead>\n",
       "  <tbody>\n",
       "    <tr>\n",
       "      <th>region_2</th>\n",
       "      <td>43827</td>\n",
       "      <td>56.448268</td>\n",
       "    </tr>\n",
       "    <tr>\n",
       "      <th>designation</th>\n",
       "      <td>22183</td>\n",
       "      <td>28.571245</td>\n",
       "    </tr>\n",
       "    <tr>\n",
       "      <th>user_name</th>\n",
       "      <td>18536</td>\n",
       "      <td>23.873984</td>\n",
       "    </tr>\n",
       "    <tr>\n",
       "      <th>region_1</th>\n",
       "      <td>11961</td>\n",
       "      <td>15.405520</td>\n",
       "    </tr>\n",
       "    <tr>\n",
       "      <th>price</th>\n",
       "      <td>5285</td>\n",
       "      <td>6.806971</td>\n",
       "    </tr>\n",
       "    <tr>\n",
       "      <th>province</th>\n",
       "      <td>33</td>\n",
       "      <td>0.042503</td>\n",
       "    </tr>\n",
       "    <tr>\n",
       "      <th>country</th>\n",
       "      <td>33</td>\n",
       "      <td>0.042503</td>\n",
       "    </tr>\n",
       "    <tr>\n",
       "      <th>variety</th>\n",
       "      <td>0</td>\n",
       "      <td>0.000000</td>\n",
       "    </tr>\n",
       "    <tr>\n",
       "      <th>winery</th>\n",
       "      <td>0</td>\n",
       "      <td>0.000000</td>\n",
       "    </tr>\n",
       "    <tr>\n",
       "      <th>points</th>\n",
       "      <td>0</td>\n",
       "      <td>0.000000</td>\n",
       "    </tr>\n",
       "    <tr>\n",
       "      <th>review_description</th>\n",
       "      <td>0</td>\n",
       "      <td>0.000000</td>\n",
       "    </tr>\n",
       "    <tr>\n",
       "      <th>review_title</th>\n",
       "      <td>0</td>\n",
       "      <td>0.000000</td>\n",
       "    </tr>\n",
       "  </tbody>\n",
       "</table>\n",
       "</div>"
      ],
      "text/plain": [
       "                    Total    Percent\n",
       "region_2            43827  56.448268\n",
       "designation         22183  28.571245\n",
       "user_name           18536  23.873984\n",
       "region_1            11961  15.405520\n",
       "price                5285   6.806971\n",
       "province               33   0.042503\n",
       "country                33   0.042503\n",
       "variety                 0   0.000000\n",
       "winery                  0   0.000000\n",
       "points                  0   0.000000\n",
       "review_description      0   0.000000\n",
       "review_title            0   0.000000"
      ]
     },
     "execution_count": 13,
     "metadata": {},
     "output_type": "execute_result"
    }
   ],
   "source": [
    "total = train.isnull().sum().sort_values(ascending = False)\n",
    "percent = (train.isnull().sum()/train.isnull().count()*100).sort_values(ascending = False)\n",
    "missing_train  = pd.concat([total, percent], axis=1, keys=['Total', 'Percent'])\n",
    "missing_train"
   ]
  },
  {
   "cell_type": "markdown",
   "metadata": {},
   "source": [
    "The most missing values are in region, destination, user name and region, price columns.\n",
    "\n",
    "Usefulness of other columns will be investigate on the Feature extraction stage. Maybe that NaN values are meaningful for particular columns.."
   ]
  },
  {
   "cell_type": "code",
   "execution_count": 14,
   "metadata": {},
   "outputs": [],
   "source": [
    "train=train.dropna(subset=['price'])\n",
    "train=train.reset_index(drop=True)"
   ]
  },
  {
   "cell_type": "code",
   "execution_count": 15,
   "metadata": {},
   "outputs": [
    {
     "data": {
      "text/plain": [
       "(72356, 12)"
      ]
     },
     "execution_count": 15,
     "metadata": {},
     "output_type": "execute_result"
    }
   ],
   "source": [
    "train.shape"
   ]
  },
  {
   "cell_type": "markdown",
   "metadata": {},
   "source": [
    "### Let's take a quick look also on highest priced wines."
   ]
  },
  {
   "cell_type": "code",
   "execution_count": 16,
   "metadata": {},
   "outputs": [
    {
     "data": {
      "text/html": [
       "<div>\n",
       "<style scoped>\n",
       "    .dataframe tbody tr th:only-of-type {\n",
       "        vertical-align: middle;\n",
       "    }\n",
       "\n",
       "    .dataframe tbody tr th {\n",
       "        vertical-align: top;\n",
       "    }\n",
       "\n",
       "    .dataframe thead th {\n",
       "        text-align: right;\n",
       "    }\n",
       "</style>\n",
       "<table border=\"1\" class=\"dataframe\">\n",
       "  <thead>\n",
       "    <tr style=\"text-align: right;\">\n",
       "      <th></th>\n",
       "      <th>user_name</th>\n",
       "      <th>country</th>\n",
       "      <th>review_title</th>\n",
       "      <th>review_description</th>\n",
       "      <th>designation</th>\n",
       "      <th>points</th>\n",
       "      <th>price</th>\n",
       "      <th>province</th>\n",
       "      <th>region_1</th>\n",
       "      <th>region_2</th>\n",
       "      <th>winery</th>\n",
       "      <th>variety</th>\n",
       "    </tr>\n",
       "  </thead>\n",
       "  <tbody>\n",
       "    <tr>\n",
       "      <th>53643</th>\n",
       "      <td>@vossroger</td>\n",
       "      <td>France</td>\n",
       "      <td>Château les Ormes Sorbet 2013  Médoc</td>\n",
       "      <td>This ripe wine shows plenty of blackberry frui...</td>\n",
       "      <td>NaN</td>\n",
       "      <td>88</td>\n",
       "      <td>3300.0</td>\n",
       "      <td>Bordeaux</td>\n",
       "      <td>Médoc</td>\n",
       "      <td>NaN</td>\n",
       "      <td>Château les Ormes Sorbet</td>\n",
       "      <td>Bordeaux-style Red Blend</td>\n",
       "    </tr>\n",
       "    <tr>\n",
       "      <th>56404</th>\n",
       "      <td>@vossroger</td>\n",
       "      <td>France</td>\n",
       "      <td>Château Pétrus 2014  Pomerol</td>\n",
       "      <td>The wine is a velvet glove in an iron fist. Th...</td>\n",
       "      <td>NaN</td>\n",
       "      <td>96</td>\n",
       "      <td>2500.0</td>\n",
       "      <td>Bordeaux</td>\n",
       "      <td>Pomerol</td>\n",
       "      <td>NaN</td>\n",
       "      <td>Château Pétrus</td>\n",
       "      <td>Bordeaux-style Red Blend</td>\n",
       "    </tr>\n",
       "  </tbody>\n",
       "</table>\n",
       "</div>"
      ],
      "text/plain": [
       "        user_name country                          review_title  \\\n",
       "53643  @vossroger  France  Château les Ormes Sorbet 2013  Médoc   \n",
       "56404  @vossroger  France          Château Pétrus 2014  Pomerol   \n",
       "\n",
       "                                      review_description designation  points  \\\n",
       "53643  This ripe wine shows plenty of blackberry frui...         NaN      88   \n",
       "56404  The wine is a velvet glove in an iron fist. Th...         NaN      96   \n",
       "\n",
       "        price  province region_1 region_2                    winery  \\\n",
       "53643  3300.0  Bordeaux    Médoc      NaN  Château les Ormes Sorbet   \n",
       "56404  2500.0  Bordeaux  Pomerol      NaN            Château Pétrus   \n",
       "\n",
       "                        variety  \n",
       "53643  Bordeaux-style Red Blend  \n",
       "56404  Bordeaux-style Red Blend  "
      ]
     },
     "execution_count": 16,
     "metadata": {},
     "output_type": "execute_result"
    }
   ],
   "source": [
    "train[(train['price'] > 2200)]"
   ]
  },
  {
   "cell_type": "markdown",
   "metadata": {},
   "source": [
    "All two highest wine coming from France"
   ]
  },
  {
   "cell_type": "markdown",
   "metadata": {},
   "source": [
    "### Data visualization\n",
    "\n",
    "Visulaising the data to get better predictions. We also want to get better understanding what is in data and explore data in 'normal' way. This kind of approch can be useful if we have to do some feature engineering, where good data understanding can really help to produce better features.\n",
    "\n",
    "The most common ways to visualize data are:\n",
    "\n",
    "histograms\n",
    "\n",
    "box plots\n",
    "\n",
    "swarm plots\n",
    "\n",
    "joint plot\n",
    "\n",
    "heatmaps\n",
    "\n",
    "Data can be visualized by matplotlib, seaborn library and built in methods from pandas dataframe"
   ]
  },
  {
   "cell_type": "code",
   "execution_count": 17,
   "metadata": {},
   "outputs": [
    {
     "name": "stderr",
     "output_type": "stream",
     "text": [
      "C:\\Program Files\\Python37\\lib\\site-packages\\statsmodels\\tools\\_testing.py:19: FutureWarning: pandas.util.testing is deprecated. Use the functions in the public API at pandas.testing instead.\n",
      "  import pandas.util.testing as tm\n"
     ]
    }
   ],
   "source": [
    "import matplotlib.pyplot as plt\n",
    "import seaborn as sns\n",
    "\n",
    "def pastel_plot(data, x, y):\n",
    "    plt.figure(figsize = (15,6))\n",
    "    plt.title('Variety histogram - whole dataset')\n",
    "    sns.set_color_codes(\"pastel\")\n",
    "    sns.barplot(x = x, y=y, data=df)\n",
    "    locs, labels = plt.xticks()\n",
    "    plt.show()"
   ]
  },
  {
   "cell_type": "code",
   "execution_count": 18,
   "metadata": {
    "scrolled": true
   },
   "outputs": [
    {
     "data": {
      "text/plain": [
       "Pinot Noir                    9610\n",
       "Chardonnay                    8324\n",
       "Cabernet Sauvignon            7093\n",
       "Red Blend                     6373\n",
       "Bordeaux-style Red Blend      3986\n",
       "Riesling                      3720\n",
       "Sauvignon Blanc               3612\n",
       "Syrah                         3075\n",
       "Rosé                          2386\n",
       "Merlot                        2305\n",
       "Zinfandel                     2087\n",
       "Malbec                        1944\n",
       "Nebbiolo                      1757\n",
       "Sangiovese                    1751\n",
       "Portuguese Red                1645\n",
       "White Blend                   1643\n",
       "Sparkling Blend               1522\n",
       "Tempranillo                   1345\n",
       "Rhône-style Red Blend         1053\n",
       "Pinot Gris                    1020\n",
       "Cabernet Franc                 989\n",
       "Champagne Blend                922\n",
       "Grüner Veltliner               829\n",
       "Pinot Grigio                   778\n",
       "Gewürztraminer                 744\n",
       "Portuguese White               714\n",
       "Gamay                          613\n",
       "Bordeaux-style White Blend     516\n",
       "Name: variety, dtype: int64"
      ]
     },
     "execution_count": 18,
     "metadata": {},
     "output_type": "execute_result"
    }
   ],
   "source": [
    "train[\"variety\"].value_counts()"
   ]
  },
  {
   "cell_type": "code",
   "execution_count": 19,
   "metadata": {},
   "outputs": [
    {
     "data": {
      "image/png": "[encoded data removed]",
      "text/plain": [
       "<Figure size 1080x432 with 1 Axes>"
      ]
     },
     "metadata": {
      "needs_background": "light"
     },
     "output_type": "display_data"
    }
   ],
   "source": [
    "temp = train[\"variety\"].value_counts()\n",
    "df = pd.DataFrame({'variety': temp.index,\n",
    "                   'number_of_wines': temp.values\n",
    "                  })\n",
    "\n",
    "pastel_plot(df,'variety', 'number_of_wines')"
   ]
  },
  {
   "cell_type": "markdown",
   "metadata": {},
   "source": [
    "#### We can see that all wines have number of variety above Pinot Noir and Chardonnay. "
   ]
  },
  {
   "cell_type": "markdown",
   "metadata": {},
   "source": [
    "We can also get exact distribution not only the histogram. We will show it on price column"
   ]
  },
  {
   "cell_type": "code",
   "execution_count": 20,
   "metadata": {},
   "outputs": [
    {
     "data": {
      "image/png": "[encoded data removed]",
      "text/plain": [
       "<Figure size 1440x360 with 1 Axes>"
      ]
     },
     "metadata": {
      "needs_background": "light"
     },
     "output_type": "display_data"
    }
   ],
   "source": [
    "plt.figure(figsize=(20,5))\n",
    "plt.title(\"Distribution of price\")\n",
    "ax = sns.distplot(train[\"price\"])"
   ]
  },
  {
   "cell_type": "markdown",
   "metadata": {},
   "source": [
    "We see that if we want to see better price distribution we have to scale our price or drop the tail. We will drop the tail, so the values that are above 200 dollars. We are also want to calculate how many wines are more expensive then 200 dolars."
   ]
  },
  {
   "cell_type": "code",
   "execution_count": 21,
   "metadata": {},
   "outputs": [
    {
     "name": "stdout",
     "output_type": "stream",
     "text": [
      "There are : 0.659240422356128 % wines more expensive then 200 USD\n"
     ]
    },
    {
     "data": {
      "image/png": "[encoded data removed]",
      "text/plain": [
       "<Figure size 1440x360 with 1 Axes>"
      ]
     },
     "metadata": {
      "needs_background": "light"
     },
     "output_type": "display_data"
    }
   ],
   "source": [
    "plt.figure(figsize=(20,5))\n",
    "plt.title(\"Distribution of price\")\n",
    "ax = sns.distplot(train[train[\"price\"]<200]['price'])\n",
    "\n",
    "percent=train[train['price']>200].shape[0]/train.shape[0]*100\n",
    "print(\"There are :\", percent, \"% wines more expensive then 200 USD\")"
   ]
  },
  {
   "cell_type": "markdown",
   "metadata": {},
   "source": [
    "#### As we can see we dropped only 0.59 percent of wines and now we can see that price distribution is also normal.\n",
    "\n",
    "\n",
    "\n",
    "\n",
    "Let's investigate which country have most expensive and most high rated wines. First of all we will sort it by price and then plot."
   ]
  },
  {
   "cell_type": "code",
   "execution_count": 22,
   "metadata": {},
   "outputs": [
    {
     "name": "stderr",
     "output_type": "stream",
     "text": [
      "C:\\Program Files\\Python37\\lib\\site-packages\\ipykernel_launcher.py:1: FutureWarning: Indexing with multiple keys (implicitly converted to a tuple of keys) will be deprecated, use a list instead.\n",
      "  \"\"\"Entry point for launching an IPython kernel.\n"
     ]
    },
    {
     "data": {
      "text/html": [
       "<div>\n",
       "<style scoped>\n",
       "    .dataframe tbody tr th:only-of-type {\n",
       "        vertical-align: middle;\n",
       "    }\n",
       "\n",
       "    .dataframe tbody tr th {\n",
       "        vertical-align: top;\n",
       "    }\n",
       "\n",
       "    .dataframe thead th {\n",
       "        text-align: right;\n",
       "    }\n",
       "</style>\n",
       "<table border=\"1\" class=\"dataframe\">\n",
       "  <thead>\n",
       "    <tr style=\"text-align: right;\">\n",
       "      <th></th>\n",
       "      <th>country</th>\n",
       "      <th>price</th>\n",
       "    </tr>\n",
       "  </thead>\n",
       "  <tbody>\n",
       "    <tr>\n",
       "      <th>33</th>\n",
       "      <td>Switzerland</td>\n",
       "      <td>94.750000</td>\n",
       "    </tr>\n",
       "    <tr>\n",
       "      <th>10</th>\n",
       "      <td>England</td>\n",
       "      <td>51.538462</td>\n",
       "    </tr>\n",
       "    <tr>\n",
       "      <th>18</th>\n",
       "      <td>Italy</td>\n",
       "      <td>46.738333</td>\n",
       "    </tr>\n",
       "    <tr>\n",
       "      <th>13</th>\n",
       "      <td>Germany</td>\n",
       "      <td>44.724688</td>\n",
       "    </tr>\n",
       "    <tr>\n",
       "      <th>11</th>\n",
       "      <td>France</td>\n",
       "      <td>44.122072</td>\n",
       "    </tr>\n",
       "    <tr>\n",
       "      <th>35</th>\n",
       "      <td>US</td>\n",
       "      <td>37.568786</td>\n",
       "    </tr>\n",
       "    <tr>\n",
       "      <th>29</th>\n",
       "      <td>Serbia</td>\n",
       "      <td>34.666667</td>\n",
       "    </tr>\n",
       "    <tr>\n",
       "      <th>5</th>\n",
       "      <td>Canada</td>\n",
       "      <td>33.470199</td>\n",
       "    </tr>\n",
       "    <tr>\n",
       "      <th>17</th>\n",
       "      <td>Israel</td>\n",
       "      <td>32.914676</td>\n",
       "    </tr>\n",
       "    <tr>\n",
       "      <th>2</th>\n",
       "      <td>Austria</td>\n",
       "      <td>31.970490</td>\n",
       "    </tr>\n",
       "  </tbody>\n",
       "</table>\n",
       "</div>"
      ],
      "text/plain": [
       "        country      price\n",
       "33  Switzerland  94.750000\n",
       "10      England  51.538462\n",
       "18        Italy  46.738333\n",
       "13      Germany  44.724688\n",
       "11       France  44.122072\n",
       "35           US  37.568786\n",
       "29       Serbia  34.666667\n",
       "5        Canada  33.470199\n",
       "17       Israel  32.914676\n",
       "2       Austria  31.970490"
      ]
     },
     "execution_count": 22,
     "metadata": {},
     "output_type": "execute_result"
    }
   ],
   "source": [
    "z=train.groupby(['country'])['price','points'].mean().reset_index().sort_values('price',ascending=False)\n",
    "z[['country','price']].head(n=10)"
   ]
  },
  {
   "cell_type": "code",
   "execution_count": 23,
   "metadata": {},
   "outputs": [
    {
     "data": {
      "image/png": "[encoded data removed]",
      "text/plain": [
       "<Figure size 1008x432 with 1 Axes>"
      ]
     },
     "metadata": {
      "needs_background": "light"
     },
     "output_type": "display_data"
    }
   ],
   "source": [
    "plt.figure(figsize = (14,6))\n",
    "plt.title('Wine prices in diffrent countries')\n",
    "sns.barplot(x = 'country', y=\"price\", data=z.head(10))\n",
    "locs, labels = plt.xticks()\n",
    "plt.show()"
   ]
  },
  {
   "cell_type": "code",
   "execution_count": 24,
   "metadata": {},
   "outputs": [
    {
     "data": {
      "text/html": [
       "<div>\n",
       "<style scoped>\n",
       "    .dataframe tbody tr th:only-of-type {\n",
       "        vertical-align: middle;\n",
       "    }\n",
       "\n",
       "    .dataframe tbody tr th {\n",
       "        vertical-align: top;\n",
       "    }\n",
       "\n",
       "    .dataframe thead th {\n",
       "        text-align: right;\n",
       "    }\n",
       "</style>\n",
       "<table border=\"1\" class=\"dataframe\">\n",
       "  <thead>\n",
       "    <tr style=\"text-align: right;\">\n",
       "      <th></th>\n",
       "      <th>country</th>\n",
       "      <th>points</th>\n",
       "    </tr>\n",
       "  </thead>\n",
       "  <tbody>\n",
       "    <tr>\n",
       "      <th>10</th>\n",
       "      <td>England</td>\n",
       "      <td>91.538462</td>\n",
       "    </tr>\n",
       "    <tr>\n",
       "      <th>2</th>\n",
       "      <td>Austria</td>\n",
       "      <td>90.454058</td>\n",
       "    </tr>\n",
       "    <tr>\n",
       "      <th>13</th>\n",
       "      <td>Germany</td>\n",
       "      <td>90.045076</td>\n",
       "    </tr>\n",
       "    <tr>\n",
       "      <th>5</th>\n",
       "      <td>Canada</td>\n",
       "      <td>89.331126</td>\n",
       "    </tr>\n",
       "    <tr>\n",
       "      <th>18</th>\n",
       "      <td>Italy</td>\n",
       "      <td>89.051254</td>\n",
       "    </tr>\n",
       "    <tr>\n",
       "      <th>16</th>\n",
       "      <td>India</td>\n",
       "      <td>89.000000</td>\n",
       "    </tr>\n",
       "    <tr>\n",
       "      <th>24</th>\n",
       "      <td>Morocco</td>\n",
       "      <td>88.842105</td>\n",
       "    </tr>\n",
       "    <tr>\n",
       "      <th>11</th>\n",
       "      <td>France</td>\n",
       "      <td>88.771104</td>\n",
       "    </tr>\n",
       "    <tr>\n",
       "      <th>35</th>\n",
       "      <td>US</td>\n",
       "      <td>88.612594</td>\n",
       "    </tr>\n",
       "    <tr>\n",
       "      <th>17</th>\n",
       "      <td>Israel</td>\n",
       "      <td>88.511945</td>\n",
       "    </tr>\n",
       "  </tbody>\n",
       "</table>\n",
       "</div>"
      ],
      "text/plain": [
       "    country     points\n",
       "10  England  91.538462\n",
       "2   Austria  90.454058\n",
       "13  Germany  90.045076\n",
       "5    Canada  89.331126\n",
       "18    Italy  89.051254\n",
       "16    India  89.000000\n",
       "24  Morocco  88.842105\n",
       "11   France  88.771104\n",
       "35       US  88.612594\n",
       "17   Israel  88.511945"
      ]
     },
     "execution_count": 24,
     "metadata": {},
     "output_type": "execute_result"
    }
   ],
   "source": [
    "z=z.sort_values('points', ascending=False)\n",
    "z[['country','points']].head(10)"
   ]
  },
  {
   "cell_type": "code",
   "execution_count": 25,
   "metadata": {},
   "outputs": [
    {
     "data": {
      "image/png": "[encoded data removed]",
      "text/plain": [
       "<Figure size 1008x432 with 1 Axes>"
      ]
     },
     "metadata": {
      "needs_background": "light"
     },
     "output_type": "display_data"
    }
   ],
   "source": [
    "plt.figure(figsize = (14,6))\n",
    "plt.title('Points for wines in diffrent countries')\n",
    "sns.set_color_codes(\"pastel\")\n",
    "sns.barplot(x = 'country', y=\"points\", data=z.head(5))\n",
    "locs, labels = plt.xticks()\n",
    "plt.show()"
   ]
  },
  {
   "cell_type": "markdown",
   "metadata": {},
   "source": [
    "####  We can easily note, that the wines in Switzerland are the most expensive one. I think the most impactful factor is much higher prices for all goods in this country. The highest mean of points came to England Based on our data let's try make some guesses why England wines are the best.\n",
    "\n",
    "\n",
    "\n",
    "#### England provide information only for thier best wines\n",
    "\n",
    "They are simply the best :)\n",
    "\n",
    "\n",
    "We can partly check our second guess. Let's see how many wines are in dataset from particular country."
   ]
  },
  {
   "cell_type": "code",
   "execution_count": 26,
   "metadata": {},
   "outputs": [
    {
     "data": {
      "text/plain": [
       "US              36112\n",
       "France          11870\n",
       "Italy            7414\n",
       "Chile            2708\n",
       "Portugal         2642\n",
       "Spain            2541\n",
       "Argentina        2400\n",
       "Austria          1491\n",
       "Germany          1442\n",
       "New Zealand      1004\n",
       "Australia         958\n",
       "South Africa      622\n",
       "Israel            293\n",
       "Canada            151\n",
       "Greece            133\n",
       "Bulgaria           91\n",
       "Romania            69\n",
       "England            52\n",
       "Mexico             38\n",
       "Slovenia           34\n",
       "Name: country, dtype: int64"
      ]
     },
     "execution_count": 26,
     "metadata": {},
     "output_type": "execute_result"
    },
    {
     "data": {
      "image/png": "[encoded data removed]",
      "text/plain": [
       "<Figure size 432x288 with 1 Axes>"
      ]
     },
     "metadata": {
      "needs_background": "light"
     },
     "output_type": "display_data"
    }
   ],
   "source": [
    "country=train['country'].value_counts()\n",
    "country.head(10).plot.bar()\n",
    "country.head(20)"
   ]
  },
  {
   "cell_type": "markdown",
   "metadata": {},
   "source": [
    "#### We can see that England isn't even in first 20's, so our guess make more sense. ;)\n",
    "\n",
    "To solve our 'problem' Important thing to investegate will be also price/quality factor."
   ]
  },
  {
   "cell_type": "code",
   "execution_count": 27,
   "metadata": {
    "scrolled": true
   },
   "outputs": [
    {
     "data": {
      "text/html": [
       "<div>\n",
       "<style scoped>\n",
       "    .dataframe tbody tr th:only-of-type {\n",
       "        vertical-align: middle;\n",
       "    }\n",
       "\n",
       "    .dataframe tbody tr th {\n",
       "        vertical-align: top;\n",
       "    }\n",
       "\n",
       "    .dataframe thead th {\n",
       "        text-align: right;\n",
       "    }\n",
       "</style>\n",
       "<table border=\"1\" class=\"dataframe\">\n",
       "  <thead>\n",
       "    <tr style=\"text-align: right;\">\n",
       "      <th></th>\n",
       "      <th>country</th>\n",
       "      <th>quality/price</th>\n",
       "    </tr>\n",
       "  </thead>\n",
       "  <tbody>\n",
       "    <tr>\n",
       "      <th>36</th>\n",
       "      <td>Ukraine</td>\n",
       "      <td>9.000000</td>\n",
       "    </tr>\n",
       "    <tr>\n",
       "      <th>16</th>\n",
       "      <td>India</td>\n",
       "      <td>7.416667</td>\n",
       "    </tr>\n",
       "    <tr>\n",
       "      <th>28</th>\n",
       "      <td>Romania</td>\n",
       "      <td>6.866051</td>\n",
       "    </tr>\n",
       "    <tr>\n",
       "      <th>12</th>\n",
       "      <td>Georgia</td>\n",
       "      <td>6.541096</td>\n",
       "    </tr>\n",
       "    <tr>\n",
       "      <th>26</th>\n",
       "      <td>Peru</td>\n",
       "      <td>5.954955</td>\n",
       "    </tr>\n",
       "    <tr>\n",
       "      <th>4</th>\n",
       "      <td>Bulgaria</td>\n",
       "      <td>5.787726</td>\n",
       "    </tr>\n",
       "    <tr>\n",
       "      <th>8</th>\n",
       "      <td>Cyprus</td>\n",
       "      <td>5.747253</td>\n",
       "    </tr>\n",
       "    <tr>\n",
       "      <th>21</th>\n",
       "      <td>Macedonia</td>\n",
       "      <td>5.716667</td>\n",
       "    </tr>\n",
       "    <tr>\n",
       "      <th>9</th>\n",
       "      <td>Czech Republic</td>\n",
       "      <td>5.630435</td>\n",
       "    </tr>\n",
       "    <tr>\n",
       "      <th>24</th>\n",
       "      <td>Morocco</td>\n",
       "      <td>4.994083</td>\n",
       "    </tr>\n",
       "    <tr>\n",
       "      <th>23</th>\n",
       "      <td>Moldova</td>\n",
       "      <td>4.569018</td>\n",
       "    </tr>\n",
       "    <tr>\n",
       "      <th>6</th>\n",
       "      <td>Chile</td>\n",
       "      <td>4.126902</td>\n",
       "    </tr>\n",
       "    <tr>\n",
       "      <th>27</th>\n",
       "      <td>Portugal</td>\n",
       "      <td>4.079098</td>\n",
       "    </tr>\n",
       "    <tr>\n",
       "      <th>3</th>\n",
       "      <td>Brazil</td>\n",
       "      <td>3.727941</td>\n",
       "    </tr>\n",
       "    <tr>\n",
       "      <th>20</th>\n",
       "      <td>Luxembourg</td>\n",
       "      <td>3.726316</td>\n",
       "    </tr>\n",
       "    <tr>\n",
       "      <th>14</th>\n",
       "      <td>Greece</td>\n",
       "      <td>3.721829</td>\n",
       "    </tr>\n",
       "    <tr>\n",
       "      <th>30</th>\n",
       "      <td>Slovenia</td>\n",
       "      <td>3.703337</td>\n",
       "    </tr>\n",
       "    <tr>\n",
       "      <th>31</th>\n",
       "      <td>South Africa</td>\n",
       "      <td>3.444340</td>\n",
       "    </tr>\n",
       "    <tr>\n",
       "      <th>37</th>\n",
       "      <td>Uruguay</td>\n",
       "      <td>3.422709</td>\n",
       "    </tr>\n",
       "    <tr>\n",
       "      <th>0</th>\n",
       "      <td>Argentina</td>\n",
       "      <td>3.409706</td>\n",
       "    </tr>\n",
       "    <tr>\n",
       "      <th>7</th>\n",
       "      <td>Croatia</td>\n",
       "      <td>3.403162</td>\n",
       "    </tr>\n",
       "    <tr>\n",
       "      <th>25</th>\n",
       "      <td>New Zealand</td>\n",
       "      <td>3.320564</td>\n",
       "    </tr>\n",
       "    <tr>\n",
       "      <th>32</th>\n",
       "      <td>Spain</td>\n",
       "      <td>3.127806</td>\n",
       "    </tr>\n",
       "    <tr>\n",
       "      <th>22</th>\n",
       "      <td>Mexico</td>\n",
       "      <td>3.032741</td>\n",
       "    </tr>\n",
       "    <tr>\n",
       "      <th>34</th>\n",
       "      <td>Turkey</td>\n",
       "      <td>3.004269</td>\n",
       "    </tr>\n",
       "    <tr>\n",
       "      <th>1</th>\n",
       "      <td>Australia</td>\n",
       "      <td>2.974536</td>\n",
       "    </tr>\n",
       "    <tr>\n",
       "      <th>19</th>\n",
       "      <td>Lebanon</td>\n",
       "      <td>2.962453</td>\n",
       "    </tr>\n",
       "    <tr>\n",
       "      <th>15</th>\n",
       "      <td>Hungary</td>\n",
       "      <td>2.959162</td>\n",
       "    </tr>\n",
       "    <tr>\n",
       "      <th>2</th>\n",
       "      <td>Austria</td>\n",
       "      <td>2.829298</td>\n",
       "    </tr>\n",
       "    <tr>\n",
       "      <th>17</th>\n",
       "      <td>Israel</td>\n",
       "      <td>2.689133</td>\n",
       "    </tr>\n",
       "    <tr>\n",
       "      <th>5</th>\n",
       "      <td>Canada</td>\n",
       "      <td>2.668975</td>\n",
       "    </tr>\n",
       "    <tr>\n",
       "      <th>29</th>\n",
       "      <td>Serbia</td>\n",
       "      <td>2.538462</td>\n",
       "    </tr>\n",
       "    <tr>\n",
       "      <th>35</th>\n",
       "      <td>US</td>\n",
       "      <td>2.358676</td>\n",
       "    </tr>\n",
       "    <tr>\n",
       "      <th>13</th>\n",
       "      <td>Germany</td>\n",
       "      <td>2.013319</td>\n",
       "    </tr>\n",
       "    <tr>\n",
       "      <th>11</th>\n",
       "      <td>France</td>\n",
       "      <td>2.011943</td>\n",
       "    </tr>\n",
       "    <tr>\n",
       "      <th>18</th>\n",
       "      <td>Italy</td>\n",
       "      <td>1.905315</td>\n",
       "    </tr>\n",
       "    <tr>\n",
       "      <th>10</th>\n",
       "      <td>England</td>\n",
       "      <td>1.776119</td>\n",
       "    </tr>\n",
       "    <tr>\n",
       "      <th>33</th>\n",
       "      <td>Switzerland</td>\n",
       "      <td>0.926121</td>\n",
       "    </tr>\n",
       "  </tbody>\n",
       "</table>\n",
       "</div>"
      ],
      "text/plain": [
       "           country  quality/price\n",
       "36         Ukraine       9.000000\n",
       "16           India       7.416667\n",
       "28         Romania       6.866051\n",
       "12         Georgia       6.541096\n",
       "26            Peru       5.954955\n",
       "4         Bulgaria       5.787726\n",
       "8           Cyprus       5.747253\n",
       "21       Macedonia       5.716667\n",
       "9   Czech Republic       5.630435\n",
       "24         Morocco       4.994083\n",
       "23         Moldova       4.569018\n",
       "6            Chile       4.126902\n",
       "27        Portugal       4.079098\n",
       "3           Brazil       3.727941\n",
       "20      Luxembourg       3.726316\n",
       "14          Greece       3.721829\n",
       "30        Slovenia       3.703337\n",
       "31    South Africa       3.444340\n",
       "37         Uruguay       3.422709\n",
       "0        Argentina       3.409706\n",
       "7          Croatia       3.403162\n",
       "25     New Zealand       3.320564\n",
       "32           Spain       3.127806\n",
       "22          Mexico       3.032741\n",
       "34          Turkey       3.004269\n",
       "1        Australia       2.974536\n",
       "19         Lebanon       2.962453\n",
       "15         Hungary       2.959162\n",
       "2          Austria       2.829298\n",
       "17          Israel       2.689133\n",
       "5           Canada       2.668975\n",
       "29          Serbia       2.538462\n",
       "35              US       2.358676\n",
       "13         Germany       2.013319\n",
       "11          France       2.011943\n",
       "18           Italy       1.905315\n",
       "10         England       1.776119\n",
       "33     Switzerland       0.926121"
      ]
     },
     "execution_count": 27,
     "metadata": {},
     "output_type": "execute_result"
    }
   ],
   "source": [
    "z['quality/price']=z['points']/z['price']\n",
    "z.sort_values('quality/price', ascending=False)[['country','quality/price']]"
   ]
  },
  {
   "cell_type": "markdown",
   "metadata": {},
   "source": [
    "#####  Now we can Identifies that England was first on points ranking, but on points/quality ranking they are the second from the end. So, yeah, they provided information only for let's say 'premium' wines."
   ]
  },
  {
   "cell_type": "markdown",
   "metadata": {},
   "source": [
    "### LSTM Model on  Text(review_description) data"
   ]
  },
  {
   "cell_type": "code",
   "execution_count": 28,
   "metadata": {},
   "outputs": [
    {
     "name": "stderr",
     "output_type": "stream",
     "text": [
      "Using TensorFlow backend.\n"
     ]
    }
   ],
   "source": [
    "from sklearn.model_selection import train_test_split\n",
    "from sklearn import metrics\n",
    "from tensorflow.keras.preprocessing.text import Tokenizer\n",
    "from tensorflow.keras.preprocessing.sequence import pad_sequences\n",
    "from tensorflow.keras.layers import Bidirectional, GlobalMaxPool1D, GlobalMaxPooling1D, GlobalAveragePooling1D\n",
    "from tensorflow.keras.layers import Input, Embedding, Dense, Conv2D, MaxPool2D, concatenate\n",
    "from tensorflow.keras.layers import Reshape, Flatten, Concatenate, Dropout, SpatialDropout1D\n",
    "from tensorflow.keras.optimizers import Adam\n",
    "from tensorflow.keras.models import Model\n",
    "from tensorflow.keras import backend as K\n",
    "# from tensorflow.keras.engine.topology import Layer\n",
    "from tensorflow.keras import initializers, regularizers, constraints, optimizers, layers\n",
    "from tensorflow.keras.layers import *\n",
    "from tensorflow.keras.models import *\n",
    "from tensorflow.keras import initializers, regularizers, constraints, optimizers, layers\n",
    "from tensorflow.keras.initializers import *\n",
    "from tensorflow.keras.optimizers import *\n",
    "import tensorflow.keras.backend as K\n",
    "from tensorflow.keras.callbacks import *\n",
    "from tensorflow.keras.layers import Dense, Input,Activation, Conv1D,Embedding, Dropout\n",
    "from keras.layers import CuDNNLSTM,CuDNNGRU\n",
    "import tensorflow as tf\n",
    "import os\n",
    "import time\n",
    "import gc\n",
    "import re\n",
    "import glob"
   ]
  },
  {
   "cell_type": "code",
   "execution_count": 29,
   "metadata": {},
   "outputs": [],
   "source": [
    "import re\n",
    "from nltk.corpus import stopwords\n",
    "from nltk import word_tokenize\n",
    "STOPWORDS = set(stopwords.words('english'))"
   ]
  },
  {
   "cell_type": "code",
   "execution_count": 30,
   "metadata": {},
   "outputs": [
    {
     "data": {
      "text/plain": [
       "Index(['user_name', 'country', 'review_title', 'review_description',\n",
       "       'designation', 'points', 'price', 'province', 'region_1', 'region_2',\n",
       "       'winery', 'variety'],\n",
       "      dtype='object')"
      ]
     },
     "execution_count": 30,
     "metadata": {},
     "output_type": "execute_result"
    }
   ],
   "source": [
    "train.columns"
   ]
  },
  {
   "cell_type": "code",
   "execution_count": 31,
   "metadata": {},
   "outputs": [],
   "source": [
    "train = train.reset_index(drop=True)\n",
    "REPLACE_BY_SPACE_RE = re.compile('[/(){}\\[\\]\\|@,;]')\n",
    "BAD_SYMBOLS_RE = re.compile('[^0-9a-z #+_]')\n",
    "STOPWORDS = set(stopwords.words('english'))\n",
    "\n",
    "def clean_text(text):\n",
    "    \"\"\"\n",
    "        text: a string\n",
    "        \n",
    "        return: modified initial string\n",
    "    \"\"\"\n",
    "    text = text.lower() # lowercase text\n",
    "    text = REPLACE_BY_SPACE_RE.sub(' ', text) # replace REPLACE_BY_SPACE_RE symbols by space in text. substitute the matched string in REPLACE_BY_SPACE_RE with space.\n",
    "    text = BAD_SYMBOLS_RE.sub('', text) # remove symbols which are in BAD_SYMBOLS_RE from text. substitute the matched string in BAD_SYMBOLS_RE with nothing. \n",
    "    text = text.replace('x', '')\n",
    "#    text = re.sub(r'\\W+', '', text)\n",
    "    text = ' '.join(word for word in text.split() if word not in STOPWORDS) # remove stopwors from text\n",
    "    return text\n",
    "train['review_description'] = train['review_description'].apply(clean_text)"
   ]
  },
  {
   "cell_type": "code",
   "execution_count": 32,
   "metadata": {},
   "outputs": [],
   "source": [
    "train = train.reset_index(drop=True)\n",
    "REPLACE_BY_SPACE_RE = re.compile('[/(){}\\[\\]\\|@,;]')\n",
    "BAD_SYMBOLS_RE = re.compile('[^0-9a-z #+_]')\n",
    "STOPWORDS = set(stopwords.words('english'))\n",
    "\n",
    "def clean_text(text):\n",
    "    \"\"\"\n",
    "        text: a string\n",
    "        \n",
    "        return: modified initial string\n",
    "    \"\"\"\n",
    "    text = text.lower() # lowercase text\n",
    "    text = REPLACE_BY_SPACE_RE.sub(' ', text) # replace REPLACE_BY_SPACE_RE symbols by space in text. substitute the matched string in REPLACE_BY_SPACE_RE with space.\n",
    "    text = BAD_SYMBOLS_RE.sub('', text) # remove symbols which are in BAD_SYMBOLS_RE from text. substitute the matched string in BAD_SYMBOLS_RE with nothing. \n",
    "    text = text.replace('x', '')\n",
    "#    text = re.sub(r'\\W+', '', text)\n",
    "    text = ' '.join(word for word in text.split() if word not in STOPWORDS) # remove stopwors from text\n",
    "    return text\n",
    "test['review_description'] = test['review_description'].apply(clean_text)"
   ]
  },
  {
   "cell_type": "code",
   "execution_count": 33,
   "metadata": {},
   "outputs": [],
   "source": [
    "train['review_description'] = train['review_description'].str.replace('\\d+', '')"
   ]
  },
  {
   "cell_type": "code",
   "execution_count": 34,
   "metadata": {},
   "outputs": [],
   "source": [
    "test['review_description'] = test['review_description'].str.replace('\\d+', '')"
   ]
  },
  {
   "cell_type": "code",
   "execution_count": 35,
   "metadata": {},
   "outputs": [
    {
     "name": "stdout",
     "output_type": "stream",
     "text": [
      "Found 34015 unique tokens.\n"
     ]
    }
   ],
   "source": [
    "# The maximum number of words to be used. (most frequent)\n",
    "MAX_NB_WORDS = 50000\n",
    "# Max number of words in each complaint.\n",
    "MAX_SEQUENCE_LENGTH = 250\n",
    "# This is fixed.\n",
    "EMBEDDING_DIM = 100\n",
    "\n",
    "tokenizer = Tokenizer(num_words=MAX_NB_WORDS, filters='!\"#$%&()*+,-./:;<=>?@[\\]^_`{|}~', lower=True)\n",
    "tokenizer.fit_on_texts(train['review_description'].values)\n",
    "word_index = tokenizer.word_index\n",
    "print('Found %s unique tokens.' % len(word_index))"
   ]
  },
  {
   "cell_type": "code",
   "execution_count": 36,
   "metadata": {},
   "outputs": [
    {
     "name": "stdout",
     "output_type": "stream",
     "text": [
      "Shape of data tensor: (72356, 250)\n"
     ]
    }
   ],
   "source": [
    "X = tokenizer.texts_to_sequences(train['review_description'].values)\n",
    "X = pad_sequences(X, maxlen=MAX_SEQUENCE_LENGTH)\n",
    "print('Shape of data tensor:', X.shape)"
   ]
  },
  {
   "cell_type": "code",
   "execution_count": 37,
   "metadata": {},
   "outputs": [
    {
     "name": "stdout",
     "output_type": "stream",
     "text": [
      "Shape of data tensor: (20665, 250)\n"
     ]
    }
   ],
   "source": [
    "test_X = tokenizer.texts_to_sequences(test['review_description'].values)\n",
    "test_X = pad_sequences(test_X, maxlen=MAX_SEQUENCE_LENGTH)\n",
    "print('Shape of data tensor:', test_X.shape)"
   ]
  },
  {
   "cell_type": "code",
   "execution_count": 38,
   "metadata": {},
   "outputs": [
    {
     "name": "stdout",
     "output_type": "stream",
     "text": [
      "Shape of label tensor: (72356, 28)\n"
     ]
    }
   ],
   "source": [
    "Y = pd.get_dummies(train['variety']).values\n",
    "print('Shape of label tensor:', Y.shape)"
   ]
  },
  {
   "cell_type": "code",
   "execution_count": 39,
   "metadata": {},
   "outputs": [
    {
     "name": "stdout",
     "output_type": "stream",
     "text": [
      "(65120, 250) (65120, 28)\n",
      "(7236, 250) (7236, 28)\n"
     ]
    }
   ],
   "source": [
    "X_train, X_test, Y_train, Y_test = train_test_split(X,Y, test_size = 0.10, random_state = 42)\n",
    "print(X_train.shape,Y_train.shape)\n",
    "print(X_test.shape,Y_test.shape)"
   ]
  },
  {
   "cell_type": "code",
   "execution_count": 40,
   "metadata": {},
   "outputs": [
    {
     "name": "stdout",
     "output_type": "stream",
     "text": [
      "Model: \"sequential\"\n",
      "_________________________________________________________________\n",
      "Layer (type)                 Output Shape              Param #   \n",
      "=================================================================\n",
      "embedding (Embedding)        (None, 250, 100)          5000000   \n",
      "_________________________________________________________________\n",
      "spatial_dropout1d (SpatialDr (None, 250, 100)          0         \n",
      "_________________________________________________________________\n",
      "lstm (LSTM)                  (None, 64)                42240     \n",
      "_________________________________________________________________\n",
      "dense (Dense)                (None, 28)                1820      \n",
      "=================================================================\n",
      "Total params: 5,044,060\n",
      "Trainable params: 5,044,060\n",
      "Non-trainable params: 0\n",
      "_________________________________________________________________\n",
      "None\n"
     ]
    }
   ],
   "source": [
    "model = Sequential()\n",
    "model.add(Embedding(MAX_NB_WORDS, EMBEDDING_DIM, input_length=X.shape[1]))\n",
    "model.add(SpatialDropout1D(0.2))\n",
    "model.add(LSTM(64, dropout=0.2, recurrent_dropout=0.2))\n",
    "model.add(Dense(28, activation='softmax'))\n",
    "model.compile(optimizer='adam', loss='categorical_crossentropy', metrics=['acc'])\n",
    "print(model.summary())\n"
   ]
  },
  {
   "cell_type": "code",
   "execution_count": 41,
   "metadata": {},
   "outputs": [
    {
     "name": "stdout",
     "output_type": "stream",
     "text": [
      "Train on 58608 samples, validate on 6512 samples\n",
      "Epoch 1/5\n",
      "58608/58608 [==============================] - 349s 6ms/sample - loss: 2.2883 - acc: 0.3208 - val_loss: 1.7002 - val_acc: 0.4664\n",
      "Epoch 2/5\n",
      "58608/58608 [==============================] - 339s 6ms/sample - loss: 1.4986 - acc: 0.5286 - val_loss: 1.3521 - val_acc: 0.5812\n",
      "Epoch 3/5\n",
      "58608/58608 [==============================] - 357s 6ms/sample - loss: 1.1593 - acc: 0.6369 - val_loss: 1.1861 - val_acc: 0.6365\n",
      "Epoch 4/5\n",
      "58608/58608 [==============================] - 364s 6ms/sample - loss: 0.9555 - acc: 0.7043 - val_loss: 1.1499 - val_acc: 0.6517\n",
      "Epoch 5/5\n",
      "58608/58608 [==============================] - 366s 6ms/sample - loss: 0.8258 - acc: 0.7444 - val_loss: 1.1375 - val_acc: 0.6611\n"
     ]
    }
   ],
   "source": [
    "epochs = 5\n",
    "batch_size = 100\n",
    "\n",
    "history = model.fit(X_train, Y_train, epochs=epochs, batch_size=batch_size,validation_split=0.1,callbacks=[EarlyStopping(monitor='val_loss', patience=3, min_delta=0.0001)])"
   ]
  },
  {
   "cell_type": "code",
   "execution_count": 42,
   "metadata": {},
   "outputs": [],
   "source": [
    "# Pred = model.predict_proba(X)[:,1]\n",
    "# Pred"
   ]
  },
  {
   "cell_type": "markdown",
   "metadata": {},
   "source": [
    "### Prediction on Full Data"
   ]
  },
  {
   "cell_type": "code",
   "execution_count": 43,
   "metadata": {},
   "outputs": [
    {
     "data": {
      "text/plain": [
       "array([[9.1314905e-06, 4.0764484e-05, 2.6306216e-06, ..., 4.4443823e-06,\n",
       "        3.6598106e-03, 9.6221804e-05],\n",
       "       [9.6664224e-03, 3.0878289e-06, 6.8629289e-04, ..., 4.4055181e-04,\n",
       "        2.2276524e-04, 6.8125670e-04],\n",
       "       [3.3681454e-06, 2.0368128e-07, 3.5637269e-05, ..., 1.5486747e-05,\n",
       "        1.5784290e-05, 1.3652943e-04],\n",
       "       ...,\n",
       "       [4.8303936e-02, 3.2066680e-05, 2.7243817e-02, ..., 3.5454275e-03,\n",
       "        3.2909717e-05, 5.9883976e-03],\n",
       "       [4.0268216e-01, 3.0505205e-02, 2.9832959e-02, ..., 3.7843387e-03,\n",
       "        3.7652019e-03, 6.2574525e-03],\n",
       "       [2.2892635e-03, 2.6261844e-07, 6.8442822e-03, ..., 4.1881347e-05,\n",
       "        4.0767468e-08, 8.7094566e-05]], dtype=float32)"
      ]
     },
     "execution_count": 43,
     "metadata": {},
     "output_type": "execute_result"
    }
   ],
   "source": [
    "Pred = model.predict_proba(X)#[:,1]\n",
    "Pred"
   ]
  },
  {
   "cell_type": "markdown",
   "metadata": {},
   "source": [
    "### Creating DataFrame"
   ]
  },
  {
   "cell_type": "code",
   "execution_count": 44,
   "metadata": {},
   "outputs": [
    {
     "data": {
      "text/plain": [
       "(72356, 28)"
      ]
     },
     "execution_count": 44,
     "metadata": {},
     "output_type": "execute_result"
    }
   ],
   "source": [
    "a = pd.DataFrame(Pred)\n",
    "a = a.add_prefix('LSTM_')\n",
    "a.shape"
   ]
  },
  {
   "cell_type": "code",
   "execution_count": 45,
   "metadata": {},
   "outputs": [
    {
     "data": {
      "text/plain": [
       "Index(['LSTM_0', 'LSTM_1', 'LSTM_2', 'LSTM_3', 'LSTM_4', 'LSTM_5', 'LSTM_6',\n",
       "       'LSTM_7', 'LSTM_8', 'LSTM_9', 'LSTM_10', 'LSTM_11', 'LSTM_12',\n",
       "       'LSTM_13', 'LSTM_14', 'LSTM_15', 'LSTM_16', 'LSTM_17', 'LSTM_18',\n",
       "       'LSTM_19', 'LSTM_20', 'LSTM_21', 'LSTM_22', 'LSTM_23', 'LSTM_24',\n",
       "       'LSTM_25', 'LSTM_26', 'LSTM_27'],\n",
       "      dtype='object')"
      ]
     },
     "execution_count": 45,
     "metadata": {},
     "output_type": "execute_result"
    }
   ],
   "source": [
    "a.columns"
   ]
  },
  {
   "cell_type": "markdown",
   "metadata": {},
   "source": [
    "### Prediction on test Data"
   ]
  },
  {
   "cell_type": "code",
   "execution_count": 46,
   "metadata": {},
   "outputs": [],
   "source": [
    "# test_Pred = model.predict_proba(test_X)[:,1]\n",
    "# test_Pred"
   ]
  },
  {
   "cell_type": "code",
   "execution_count": 47,
   "metadata": {},
   "outputs": [
    {
     "data": {
      "text/plain": [
       "(20665, 28)"
      ]
     },
     "execution_count": 47,
     "metadata": {},
     "output_type": "execute_result"
    }
   ],
   "source": [
    "test_Pred1 = model.predict_proba(test_X)\n",
    "b = pd.DataFrame(test_Pred1)\n",
    "b = b.add_prefix('LSTM_')\n",
    "b.shape"
   ]
  },
  {
   "cell_type": "code",
   "execution_count": 48,
   "metadata": {},
   "outputs": [
    {
     "data": {
      "text/plain": [
       "Index(['LSTM_0', 'LSTM_1', 'LSTM_2', 'LSTM_3', 'LSTM_4', 'LSTM_5', 'LSTM_6',\n",
       "       'LSTM_7', 'LSTM_8', 'LSTM_9', 'LSTM_10', 'LSTM_11', 'LSTM_12',\n",
       "       'LSTM_13', 'LSTM_14', 'LSTM_15', 'LSTM_16', 'LSTM_17', 'LSTM_18',\n",
       "       'LSTM_19', 'LSTM_20', 'LSTM_21', 'LSTM_22', 'LSTM_23', 'LSTM_24',\n",
       "       'LSTM_25', 'LSTM_26', 'LSTM_27'],\n",
       "      dtype='object')"
      ]
     },
     "execution_count": 48,
     "metadata": {},
     "output_type": "execute_result"
    }
   ],
   "source": [
    "b.columns"
   ]
  },
  {
   "cell_type": "markdown",
   "metadata": {},
   "source": [
    "### Adding Prediction Results on Data(Blending)"
   ]
  },
  {
   "cell_type": "code",
   "execution_count": 50,
   "metadata": {},
   "outputs": [
    {
     "data": {
      "text/plain": [
       "((72356, 40), (20665, 39))"
      ]
     },
     "execution_count": 50,
     "metadata": {},
     "output_type": "execute_result"
    }
   ],
   "source": [
    "train = pd.concat([train,a],axis=1)\n",
    "test = pd.concat([test,b],axis=1)\n",
    "train.shape,test.shape"
   ]
  },
  {
   "cell_type": "code",
   "execution_count": null,
   "metadata": {
    "scrolled": true
   },
   "outputs": [],
   "source": [
    "# train['LSTM_PRED'] = Pred\n",
    "# test['LSTM_PRED1']=test_Pred"
   ]
  },
  {
   "cell_type": "code",
   "execution_count": 51,
   "metadata": {},
   "outputs": [
    {
     "data": {
      "text/plain": [
       "(1139, 0)"
      ]
     },
     "execution_count": 51,
     "metadata": {},
     "output_type": "execute_result"
    }
   ],
   "source": [
    "import gc\n",
    "gc.collect(),gc.collect()"
   ]
  },
  {
   "cell_type": "markdown",
   "metadata": {},
   "source": [
    "### Imputing Missing Value"
   ]
  },
  {
   "cell_type": "code",
   "execution_count": 52,
   "metadata": {},
   "outputs": [],
   "source": [
    "train['user_name'] = np.where(train['user_name'].isna()==True,'@vossroger',train['user_name'])\n",
    "train['country'] = np.where(train['country'].isna()==True,'US',train['country'])\n",
    "train['designation'] = np.where(train['designation'].isna()==True,'Reserve',train['designation'])\n",
    "train['region_1'] = np.where(train['region_1'].isna()==True,'Napa Valley',train['region_1'])\n",
    "train['region_2'] = np.where(train['region_2'].isna()==True,'Central Coast',train['region_2'])\n",
    "train['province'] = np.where(train['province'].isna()==True,'California',train['region_2'])"
   ]
  },
  {
   "cell_type": "code",
   "execution_count": 53,
   "metadata": {},
   "outputs": [],
   "source": [
    "test['user_name'] = np.where(test['user_name'].isna()==True,'@vossroger',test['user_name'])\n",
    "test['country'] = np.where(test['country'].isna()==True,'US',test['country'])\n",
    "test['designation'] = np.where(test['designation'].isna()==True,'Reserve',test['designation'])\n",
    "test['region_1'] = np.where(test['region_1'].isna()==True,'Napa Valley',test['region_1'])\n",
    "test['region_2'] = np.where(test['region_2'].isna()==True,'Central Coast',test['region_2'])\n",
    "test['province'] = np.where(test['province'].isna()==True,'California',test['region_2'])"
   ]
  },
  {
   "cell_type": "markdown",
   "metadata": {},
   "source": [
    "### Encoding on categorical Features\n",
    "\n",
    "I am using here label encoder for categoricl features"
   ]
  },
  {
   "cell_type": "code",
   "execution_count": 54,
   "metadata": {},
   "outputs": [],
   "source": [
    "from sklearn import preprocessing\n",
    "le = preprocessing.LabelEncoder()\n",
    "\n",
    "train['country'] = le.fit_transform(train['country'])\n",
    "train['designation'] = le.fit_transform(train['designation'])\n",
    "train['region_1'] =le.fit_transform(train['region_1'])\n",
    "train['region_2'] = le.fit_transform(train['region_2'])\n",
    "train['province'] =le.fit_transform(train['province'])\n",
    "train['winery'] =le.fit_transform(train['winery'])\n"
   ]
  },
  {
   "cell_type": "code",
   "execution_count": 55,
   "metadata": {},
   "outputs": [],
   "source": [
    "from sklearn import preprocessing\n",
    "le = preprocessing.LabelEncoder()\n",
    "test['country'] = le.fit_transform(test['country'])\n",
    "test['designation'] = le.fit_transform(test['designation'])\n",
    "test['region_1'] =le.fit_transform(test['region_1'])\n",
    "test['region_2'] = le.fit_transform(test['region_2'])\n",
    "test['province'] =le.fit_transform(test['province'])\n",
    "test['winery'] =le.fit_transform(test['winery'])\n"
   ]
  },
  {
   "cell_type": "markdown",
   "metadata": {},
   "source": [
    "### Splitig Data "
   ]
  },
  {
   "cell_type": "code",
   "execution_count": 56,
   "metadata": {
    "scrolled": true
   },
   "outputs": [
    {
     "data": {
      "text/plain": [
       "user_name             0\n",
       "country               0\n",
       "review_title          0\n",
       "review_description    0\n",
       "designation           0\n",
       "points                0\n",
       "price                 0\n",
       "province              0\n",
       "region_1              0\n",
       "region_2              0\n",
       "winery                0\n",
       "variety               0\n",
       "LSTM_0                0\n",
       "LSTM_1                0\n",
       "LSTM_2                0\n",
       "LSTM_3                0\n",
       "LSTM_4                0\n",
       "LSTM_5                0\n",
       "LSTM_6                0\n",
       "LSTM_7                0\n",
       "LSTM_8                0\n",
       "LSTM_9                0\n",
       "LSTM_10               0\n",
       "LSTM_11               0\n",
       "LSTM_12               0\n",
       "LSTM_13               0\n",
       "LSTM_14               0\n",
       "LSTM_15               0\n",
       "LSTM_16               0\n",
       "LSTM_17               0\n",
       "LSTM_18               0\n",
       "LSTM_19               0\n",
       "LSTM_20               0\n",
       "LSTM_21               0\n",
       "LSTM_22               0\n",
       "LSTM_23               0\n",
       "LSTM_24               0\n",
       "LSTM_25               0\n",
       "LSTM_26               0\n",
       "LSTM_27               0\n",
       "dtype: int64"
      ]
     },
     "execution_count": 56,
     "metadata": {},
     "output_type": "execute_result"
    }
   ],
   "source": [
    "train.isna().sum()"
   ]
  },
  {
   "cell_type": "code",
   "execution_count": 57,
   "metadata": {
    "scrolled": true
   },
   "outputs": [],
   "source": [
    "columns = ['user_name','review_title','review_description','variety']\n",
    "X1 = train.drop(columns,axis=1)\n",
    "Y1= pd.get_dummies(train['variety']).values"
   ]
  },
  {
   "cell_type": "code",
   "execution_count": 58,
   "metadata": {},
   "outputs": [
    {
     "name": "stdout",
     "output_type": "stream",
     "text": [
      "(65120, 36) (65120, 28)\n",
      "(7236, 36) (7236, 28)\n"
     ]
    }
   ],
   "source": [
    "X_train1, X_test1, Y_train1, Y_test1 = train_test_split(X1,Y1, test_size = 0.10, random_state = 42,stratify=Y)\n",
    "print(X_train1.shape,Y_train1.shape)\n",
    "print(X_test1.shape,Y_test1.shape)"
   ]
  },
  {
   "cell_type": "markdown",
   "metadata": {},
   "source": [
    "### Random Forest Model"
   ]
  },
  {
   "cell_type": "code",
   "execution_count": 59,
   "metadata": {},
   "outputs": [
    {
     "data": {
      "text/plain": [
       "RandomForestClassifier(bootstrap=True, ccp_alpha=0.0, class_weight=None,\n",
       "                       criterion='gini', max_depth=None, max_features='auto',\n",
       "                       max_leaf_nodes=None, max_samples=None,\n",
       "                       min_impurity_decrease=0.0, min_impurity_split=None,\n",
       "                       min_samples_leaf=1, min_samples_split=2,\n",
       "                       min_weight_fraction_leaf=0.0, n_estimators=100,\n",
       "                       n_jobs=None, oob_score=False, random_state=None,\n",
       "                       verbose=0, warm_start=False)"
      ]
     },
     "execution_count": 59,
     "metadata": {},
     "output_type": "execute_result"
    }
   ],
   "source": [
    "#Import Random Forest Model\n",
    "from sklearn.ensemble import RandomForestClassifier\n",
    "\n",
    "#Create a Gaussian Classifier\n",
    "clf=RandomForestClassifier(n_estimators=100)\n",
    "\n",
    "#Train the model using the training sets \n",
    "clf.fit(X_train1,Y_train1)\n"
   ]
  },
  {
   "cell_type": "markdown",
   "metadata": {},
   "source": [
    "### Test the model on test data"
   ]
  },
  {
   "cell_type": "code",
   "execution_count": 61,
   "metadata": {},
   "outputs": [],
   "source": [
    "y_pred=clf.predict(X_test1)"
   ]
  },
  {
   "cell_type": "markdown",
   "metadata": {},
   "source": [
    "### Classification Matrix"
   ]
  },
  {
   "cell_type": "code",
   "execution_count": 62,
   "metadata": {
    "scrolled": true
   },
   "outputs": [
    {
     "name": "stdout",
     "output_type": "stream",
     "text": [
      "              precision    recall  f1-score   support\n",
      "\n",
      "           0       0.88      0.77      0.82       399\n",
      "           1       0.94      0.56      0.70        52\n",
      "           2       0.85      0.22      0.35        99\n",
      "           3       0.87      0.72      0.79       709\n",
      "           4       0.89      0.70      0.78        92\n",
      "           5       0.93      0.89      0.91       832\n",
      "           6       0.84      0.44      0.58        61\n",
      "           7       0.83      0.65      0.73        74\n",
      "           8       0.92      0.83      0.87        83\n",
      "           9       0.86      0.57      0.68       194\n",
      "          10       0.91      0.46      0.61       231\n",
      "          11       1.00      0.89      0.94       176\n",
      "          12       0.94      0.59      0.72        78\n",
      "          13       0.88      0.56      0.68       102\n",
      "          14       0.94      0.88      0.91       961\n",
      "          15       0.97      0.92      0.95       165\n",
      "          16       0.95      0.86      0.90        71\n",
      "          17       0.88      0.70      0.78       637\n",
      "          18       0.92      0.68      0.78       105\n",
      "          19       0.96      0.85      0.90       372\n",
      "          20       0.90      0.83      0.86       239\n",
      "          21       0.84      0.61      0.70       175\n",
      "          22       0.92      0.78      0.85       361\n",
      "          23       0.84      0.70      0.76       152\n",
      "          24       0.88      0.65      0.75       308\n",
      "          25       0.98      0.76      0.85       135\n",
      "          26       0.94      0.74      0.83       164\n",
      "          27       0.95      0.73      0.82       209\n",
      "\n",
      "   micro avg       0.91      0.75      0.83      7236\n",
      "   macro avg       0.91      0.70      0.78      7236\n",
      "weighted avg       0.91      0.75      0.82      7236\n",
      " samples avg       0.75      0.75      0.75      7236\n",
      "\n"
     ]
    },
    {
     "name": "stderr",
     "output_type": "stream",
     "text": [
      "C:\\Program Files\\Python37\\lib\\site-packages\\sklearn\\metrics\\_classification.py:1272: UndefinedMetricWarning: Precision and F-score are ill-defined and being set to 0.0 in samples with no predicted labels. Use `zero_division` parameter to control this behavior.\n",
      "  _warn_prf(average, modifier, msg_start, len(result))\n"
     ]
    }
   ],
   "source": [
    "from sklearn.metrics import classification_report\n",
    "print(classification_report(Y_test1,y_pred))"
   ]
  },
  {
   "cell_type": "markdown",
   "metadata": {},
   "source": [
    "### Prediction on Full Data using Random Forest Algorithm"
   ]
  },
  {
   "cell_type": "code",
   "execution_count": null,
   "metadata": {},
   "outputs": [],
   "source": [
    "columns = ['user_name','review_title','review_description','variety']\n",
    "full_pred=clf.predict(train)"
   ]
  },
  {
   "cell_type": "markdown",
   "metadata": {},
   "source": [
    "### XGBoost"
   ]
  },
  {
   "cell_type": "code",
   "execution_count": 64,
   "metadata": {},
   "outputs": [
    {
     "data": {
      "text/plain": [
       "((54267, 36), (54267,), (18089, 36), (18089,))"
      ]
     },
     "execution_count": 64,
     "metadata": {},
     "output_type": "execute_result"
    }
   ],
   "source": [
    "from sklearn.preprocessing import LabelEncoder\n",
    "columns = ['user_name','review_title','review_description','variety']\n",
    "x= train.drop(columns,axis=1)\n",
    "y= train[['variety']]\n",
    "le = LabelEncoder()\n",
    "y = le.fit_transform(y['variety'])\n",
    "\n",
    "\n",
    "X_train, X_test, y_train, y_test = train_test_split(x, y, random_state=42, stratify=y)\n",
    "\n",
    "X_train.shape, y_train.shape, X_test.shape, y_test.shape,"
   ]
  },
  {
   "cell_type": "code",
   "execution_count": 65,
   "metadata": {},
   "outputs": [
    {
     "data": {
      "text/plain": [
       "Index(['country', 'designation', 'points', 'price', 'province', 'region_1',\n",
       "       'region_2', 'winery', 'LSTM_0', 'LSTM_1', 'LSTM_2', 'LSTM_3', 'LSTM_4',\n",
       "       'LSTM_5', 'LSTM_6', 'LSTM_7', 'LSTM_8', 'LSTM_9', 'LSTM_10', 'LSTM_11',\n",
       "       'LSTM_12', 'LSTM_13', 'LSTM_14', 'LSTM_15', 'LSTM_16', 'LSTM_17',\n",
       "       'LSTM_18', 'LSTM_19', 'LSTM_20', 'LSTM_21', 'LSTM_22', 'LSTM_23',\n",
       "       'LSTM_24', 'LSTM_25', 'LSTM_26', 'LSTM_27'],\n",
       "      dtype='object')"
      ]
     },
     "execution_count": 65,
     "metadata": {},
     "output_type": "execute_result"
    }
   ],
   "source": [
    "X_train.columns"
   ]
  },
  {
   "cell_type": "code",
   "execution_count": 66,
   "metadata": {},
   "outputs": [],
   "source": [
    "import xgboost as xgb\n",
    "\n",
    "dtrain = xgb.DMatrix(data=X_train, label=y_train)\n",
    "dtest = xgb.DMatrix(data=X_test)"
   ]
  },
  {
   "cell_type": "code",
   "execution_count": 67,
   "metadata": {},
   "outputs": [],
   "source": [
    "params = {\n",
    "    'max_depth': 3,\n",
    "    'objective': 'multi:softmax',  # error evaluation for multiclass training\n",
    "    'num_class': 28,\n",
    "    'n_gpus': 0\n",
    "}"
   ]
  },
  {
   "cell_type": "code",
   "execution_count": 68,
   "metadata": {},
   "outputs": [],
   "source": [
    "bst = xgb.train(params, dtrain)"
   ]
  },
  {
   "cell_type": "code",
   "execution_count": 69,
   "metadata": {},
   "outputs": [],
   "source": [
    "pred = bst.predict(dtest)"
   ]
  },
  {
   "cell_type": "markdown",
   "metadata": {},
   "source": [
    "### Classification Report(Precision and Recall))"
   ]
  },
  {
   "cell_type": "code",
   "execution_count": 70,
   "metadata": {},
   "outputs": [
    {
     "name": "stdout",
     "output_type": "stream",
     "text": [
      "                            precision    recall  f1-score   support\n",
      "\n",
      "  Bordeaux-style Red Blend       0.83      0.83      0.83       997\n",
      "Bordeaux-style White Blend       0.92      0.76      0.83       129\n",
      "            Cabernet Franc       0.67      0.44      0.53       247\n",
      "        Cabernet Sauvignon       0.74      0.85      0.79      1773\n",
      "           Champagne Blend       0.84      0.75      0.80       230\n",
      "                Chardonnay       0.87      0.93      0.90      2081\n",
      "                     Gamay       0.78      0.79      0.78       153\n",
      "            Gewürztraminer       0.80      0.72      0.76       186\n",
      "          Grüner Veltliner       0.91      0.87      0.89       207\n",
      "                    Malbec       0.78      0.72      0.75       486\n",
      "                    Merlot       0.69      0.58      0.63       576\n",
      "                  Nebbiolo       0.94      0.92      0.93       439\n",
      "              Pinot Grigio       0.75      0.70      0.73       195\n",
      "                Pinot Gris       0.74      0.68      0.71       255\n",
      "                Pinot Noir       0.89      0.92      0.90      2403\n",
      "            Portuguese Red       0.95      0.94      0.95       411\n",
      "          Portuguese White       0.95      0.92      0.94       178\n",
      "                 Red Blend       0.78      0.75      0.77      1593\n",
      "     Rhône-style Red Blend       0.80      0.82      0.81       263\n",
      "                  Riesling       0.88      0.91      0.90       930\n",
      "                      Rosé       0.83      0.86      0.85       597\n",
      "                Sangiovese       0.73      0.71      0.72       438\n",
      "           Sauvignon Blanc       0.85      0.84      0.85       903\n",
      "           Sparkling Blend       0.78      0.84      0.81       381\n",
      "                     Syrah       0.78      0.72      0.75       769\n",
      "               Tempranillo       0.83      0.80      0.82       336\n",
      "               White Blend       0.87      0.78      0.82       411\n",
      "                 Zinfandel       0.83      0.81      0.82       522\n",
      "\n",
      "                  accuracy                           0.83     18089\n",
      "                 macro avg       0.82      0.79      0.81     18089\n",
      "              weighted avg       0.83      0.83      0.83     18089\n",
      "\n"
     ]
    }
   ],
   "source": [
    "from sklearn.metrics import classification_report\n",
    "\n",
    "print(classification_report(y_test, pred, target_names=le.classes_))"
   ]
  },
  {
   "cell_type": "markdown",
   "metadata": {},
   "source": [
    "### Confusion Matrix"
   ]
  },
  {
   "cell_type": "code",
   "execution_count": 72,
   "metadata": {},
   "outputs": [],
   "source": [
    "from sklearn.metrics import confusion_matrix\n",
    "frog_cm = confusion_matrix(y_test, pred)"
   ]
  },
  {
   "cell_type": "code",
   "execution_count": 73,
   "metadata": {},
   "outputs": [],
   "source": [
    "def plot_confusion_matrix(cm, classes, normalized=True, cmap='bone'):\n",
    "    plt.figure(figsize=[7, 6])\n",
    "    norm_cm = cm\n",
    "    if normalized:\n",
    "        norm_cm = cm.astype('float') / cm.sum(axis=1)[:, np.newaxis]\n",
    "        sns.heatmap(norm_cm, annot=cm, fmt='g', xticklabels=classes, yticklabels=classes, cmap=cmap)\n",
    "        plt.savefig('confusion-matrix.png')"
   ]
  },
  {
   "cell_type": "code",
   "execution_count": 74,
   "metadata": {},
   "outputs": [
    {
     "data": {
      "image/png": "[encoded data removed]",
      "text/plain": [
       "<Figure size 504x432 with 2 Axes>"
      ]
     },
     "metadata": {
      "needs_background": "light"
     },
     "output_type": "display_data"
    }
   ],
   "source": [
    "from sklearn.metrics import confusion_matrix\n",
    "plot_confusion_matrix(frog_cm, classes=le.classes_)"
   ]
  },
  {
   "cell_type": "markdown",
   "metadata": {},
   "source": [
    "### Prediction on Test data"
   ]
  },
  {
   "cell_type": "code",
   "execution_count": 76,
   "metadata": {},
   "outputs": [
    {
     "data": {
      "text/plain": [
       "Index(['user_name', 'country', 'review_title', 'review_description',\n",
       "       'designation', 'points', 'price', 'province', 'region_1', 'region_2',\n",
       "       'winery', 'LSTM_0', 'LSTM_1', 'LSTM_2', 'LSTM_3', 'LSTM_4', 'LSTM_5',\n",
       "       'LSTM_6', 'LSTM_7', 'LSTM_8', 'LSTM_9', 'LSTM_10', 'LSTM_11', 'LSTM_12',\n",
       "       'LSTM_13', 'LSTM_14', 'LSTM_15', 'LSTM_16', 'LSTM_17', 'LSTM_18',\n",
       "       'LSTM_19', 'LSTM_20', 'LSTM_21', 'LSTM_22', 'LSTM_23', 'LSTM_24',\n",
       "       'LSTM_25', 'LSTM_26', 'LSTM_27'],\n",
       "      dtype='object')"
      ]
     },
     "execution_count": 76,
     "metadata": {},
     "output_type": "execute_result"
    }
   ],
   "source": [
    "test.columns"
   ]
  },
  {
   "cell_type": "code",
   "execution_count": 77,
   "metadata": {},
   "outputs": [],
   "source": [
    "columns = ['user_name','review_title','review_description']\n",
    "test1 = test.drop(columns,axis=1)"
   ]
  },
  {
   "cell_type": "code",
   "execution_count": 78,
   "metadata": {},
   "outputs": [],
   "source": [
    "dtest1 = xgb.DMatrix(data=test1)"
   ]
  },
  {
   "cell_type": "code",
   "execution_count": 79,
   "metadata": {},
   "outputs": [],
   "source": [
    "pred = bst.predict(dtest1)"
   ]
  },
  {
   "cell_type": "code",
   "execution_count": 80,
   "metadata": {},
   "outputs": [],
   "source": [
    "test['Prediction_Result'] = pred"
   ]
  },
  {
   "cell_type": "code",
   "execution_count": 81,
   "metadata": {},
   "outputs": [
    {
     "data": {
      "text/html": [
       "<div>\n",
       "<style scoped>\n",
       "    .dataframe tbody tr th:only-of-type {\n",
       "        vertical-align: middle;\n",
       "    }\n",
       "\n",
       "    .dataframe tbody tr th {\n",
       "        vertical-align: top;\n",
       "    }\n",
       "\n",
       "    .dataframe thead th {\n",
       "        text-align: right;\n",
       "    }\n",
       "</style>\n",
       "<table border=\"1\" class=\"dataframe\">\n",
       "  <thead>\n",
       "    <tr style=\"text-align: right;\">\n",
       "      <th></th>\n",
       "      <th>user_name</th>\n",
       "      <th>country</th>\n",
       "      <th>review_title</th>\n",
       "      <th>review_description</th>\n",
       "      <th>designation</th>\n",
       "      <th>points</th>\n",
       "      <th>price</th>\n",
       "      <th>province</th>\n",
       "      <th>region_1</th>\n",
       "      <th>region_2</th>\n",
       "      <th>...</th>\n",
       "      <th>LSTM_19</th>\n",
       "      <th>LSTM_20</th>\n",
       "      <th>LSTM_21</th>\n",
       "      <th>LSTM_22</th>\n",
       "      <th>LSTM_23</th>\n",
       "      <th>LSTM_24</th>\n",
       "      <th>LSTM_25</th>\n",
       "      <th>LSTM_26</th>\n",
       "      <th>LSTM_27</th>\n",
       "      <th>Prediction_Result</th>\n",
       "    </tr>\n",
       "  </thead>\n",
       "  <tbody>\n",
       "    <tr>\n",
       "      <th>0</th>\n",
       "      <td>@paulgwine</td>\n",
       "      <td>35</td>\n",
       "      <td>Boedecker Cellars 2011 Athena Pinot Noir (Will...</td>\n",
       "      <td>nicely differentiated companion stewart bottli...</td>\n",
       "      <td>474</td>\n",
       "      <td>88</td>\n",
       "      <td>35.0</td>\n",
       "      <td>17</td>\n",
       "      <td>747</td>\n",
       "      <td>16</td>\n",
       "      <td>...</td>\n",
       "      <td>4.604421e-05</td>\n",
       "      <td>0.002279</td>\n",
       "      <td>0.008065</td>\n",
       "      <td>0.000146</td>\n",
       "      <td>3.635954e-04</td>\n",
       "      <td>0.105554</td>\n",
       "      <td>0.018144</td>\n",
       "      <td>0.000055</td>\n",
       "      <td>0.031018</td>\n",
       "      <td>14.0</td>\n",
       "    </tr>\n",
       "    <tr>\n",
       "      <th>1</th>\n",
       "      <td>@wineschach</td>\n",
       "      <td>0</td>\n",
       "      <td>Mendoza Vineyards 2012 Gran Reserva by Richard...</td>\n",
       "      <td>charred smoky herbal aromas blackberry trend d...</td>\n",
       "      <td>3602</td>\n",
       "      <td>90</td>\n",
       "      <td>60.0</td>\n",
       "      <td>2</td>\n",
       "      <td>391</td>\n",
       "      <td>1</td>\n",
       "      <td>...</td>\n",
       "      <td>2.000568e-07</td>\n",
       "      <td>0.000054</td>\n",
       "      <td>0.000742</td>\n",
       "      <td>0.000023</td>\n",
       "      <td>3.141348e-06</td>\n",
       "      <td>0.005311</td>\n",
       "      <td>0.122759</td>\n",
       "      <td>0.000004</td>\n",
       "      <td>0.000108</td>\n",
       "      <td>9.0</td>\n",
       "    </tr>\n",
       "    <tr>\n",
       "      <th>2</th>\n",
       "      <td>@vboone</td>\n",
       "      <td>35</td>\n",
       "      <td>Prime 2013 Chardonnay (Coombsville)</td>\n",
       "      <td>slightly sour funky earth restrained white age...</td>\n",
       "      <td>7062</td>\n",
       "      <td>87</td>\n",
       "      <td>38.0</td>\n",
       "      <td>7</td>\n",
       "      <td>185</td>\n",
       "      <td>6</td>\n",
       "      <td>...</td>\n",
       "      <td>1.601988e-02</td>\n",
       "      <td>0.000517</td>\n",
       "      <td>0.000038</td>\n",
       "      <td>0.120708</td>\n",
       "      <td>2.431517e-03</td>\n",
       "      <td>0.000132</td>\n",
       "      <td>0.000047</td>\n",
       "      <td>0.002689</td>\n",
       "      <td>0.000139</td>\n",
       "      <td>5.0</td>\n",
       "    </tr>\n",
       "    <tr>\n",
       "      <th>3</th>\n",
       "      <td>@wineschach</td>\n",
       "      <td>0</td>\n",
       "      <td>Bodega Cuarto Dominio 2012 Chento Vineyard Sel...</td>\n",
       "      <td>concentrated midnightblack malbec delivers aro...</td>\n",
       "      <td>1563</td>\n",
       "      <td>91</td>\n",
       "      <td>20.0</td>\n",
       "      <td>2</td>\n",
       "      <td>391</td>\n",
       "      <td>1</td>\n",
       "      <td>...</td>\n",
       "      <td>1.612109e-07</td>\n",
       "      <td>0.000018</td>\n",
       "      <td>0.000255</td>\n",
       "      <td>0.000011</td>\n",
       "      <td>5.078993e-07</td>\n",
       "      <td>0.000144</td>\n",
       "      <td>0.008336</td>\n",
       "      <td>0.000001</td>\n",
       "      <td>0.000032</td>\n",
       "      <td>9.0</td>\n",
       "    </tr>\n",
       "    <tr>\n",
       "      <th>4</th>\n",
       "      <td>@kerinokeefe</td>\n",
       "      <td>19</td>\n",
       "      <td>SassodiSole 2012  Brunello di Montalcino</td>\n",
       "      <td>earthy aromas suggesting grilled porcini leath...</td>\n",
       "      <td>7062</td>\n",
       "      <td>90</td>\n",
       "      <td>49.0</td>\n",
       "      <td>2</td>\n",
       "      <td>84</td>\n",
       "      <td>1</td>\n",
       "      <td>...</td>\n",
       "      <td>2.104135e-05</td>\n",
       "      <td>0.000016</td>\n",
       "      <td>0.305006</td>\n",
       "      <td>0.000004</td>\n",
       "      <td>7.503169e-06</td>\n",
       "      <td>0.000314</td>\n",
       "      <td>0.000346</td>\n",
       "      <td>0.000082</td>\n",
       "      <td>0.000028</td>\n",
       "      <td>17.0</td>\n",
       "    </tr>\n",
       "  </tbody>\n",
       "</table>\n",
       "<p>5 rows × 40 columns</p>\n",
       "</div>"
      ],
      "text/plain": [
       "      user_name  country                                       review_title  \\\n",
       "0   @paulgwine        35  Boedecker Cellars 2011 Athena Pinot Noir (Will...   \n",
       "1   @wineschach        0  Mendoza Vineyards 2012 Gran Reserva by Richard...   \n",
       "2       @vboone       35                Prime 2013 Chardonnay (Coombsville)   \n",
       "3   @wineschach        0  Bodega Cuarto Dominio 2012 Chento Vineyard Sel...   \n",
       "4  @kerinokeefe       19           SassodiSole 2012  Brunello di Montalcino   \n",
       "\n",
       "                                  review_description  designation  points  \\\n",
       "0  nicely differentiated companion stewart bottli...          474      88   \n",
       "1  charred smoky herbal aromas blackberry trend d...         3602      90   \n",
       "2  slightly sour funky earth restrained white age...         7062      87   \n",
       "3  concentrated midnightblack malbec delivers aro...         1563      91   \n",
       "4  earthy aromas suggesting grilled porcini leath...         7062      90   \n",
       "\n",
       "   price  province  region_1  region_2  ...       LSTM_19   LSTM_20   LSTM_21  \\\n",
       "0   35.0        17       747        16  ...  4.604421e-05  0.002279  0.008065   \n",
       "1   60.0         2       391         1  ...  2.000568e-07  0.000054  0.000742   \n",
       "2   38.0         7       185         6  ...  1.601988e-02  0.000517  0.000038   \n",
       "3   20.0         2       391         1  ...  1.612109e-07  0.000018  0.000255   \n",
       "4   49.0         2        84         1  ...  2.104135e-05  0.000016  0.305006   \n",
       "\n",
       "    LSTM_22       LSTM_23   LSTM_24   LSTM_25   LSTM_26   LSTM_27  \\\n",
       "0  0.000146  3.635954e-04  0.105554  0.018144  0.000055  0.031018   \n",
       "1  0.000023  3.141348e-06  0.005311  0.122759  0.000004  0.000108   \n",
       "2  0.120708  2.431517e-03  0.000132  0.000047  0.002689  0.000139   \n",
       "3  0.000011  5.078993e-07  0.000144  0.008336  0.000001  0.000032   \n",
       "4  0.000004  7.503169e-06  0.000314  0.000346  0.000082  0.000028   \n",
       "\n",
       "   Prediction_Result  \n",
       "0               14.0  \n",
       "1                9.0  \n",
       "2                5.0  \n",
       "3                9.0  \n",
       "4               17.0  \n",
       "\n",
       "[5 rows x 40 columns]"
      ]
     },
     "execution_count": 81,
     "metadata": {},
     "output_type": "execute_result"
    }
   ],
   "source": [
    "test.head()"
   ]
  },
  {
   "cell_type": "code",
   "execution_count": 82,
   "metadata": {},
   "outputs": [],
   "source": [
    "test.to_csv(\"TestData_Pred_Results.csv\")"
   ]
  },
  {
   "cell_type": "markdown",
   "metadata": {},
   "source": [
    "### Summary\n",
    "\n",
    "### Model used : \n",
    "\n",
    "### 1. LSTM on Text Data and used prediction result as a variable with main data (Blending).\n",
    "\n",
    "### 2. Random Forest model \n",
    "\n",
    "### 3. XGBoost Model \n",
    "\n",
    "### 4. Features extracted with LSTM Model and also used main features for modeling.\n",
    "\n",
    "\n",
    "\n",
    "### Features Name\n",
    "\n",
    "['country', 'designation', 'points', 'price', 'province', 'region_1',\n",
    "       'region_2', 'winery', 'LSTM_0', 'LSTM_1', 'LSTM_2', 'LSTM_3', 'LSTM_4',\n",
    "       'LSTM_5', 'LSTM_6', 'LSTM_7', 'LSTM_8', 'LSTM_9', 'LSTM_10', 'LSTM_11',\n",
    "       'LSTM_12', 'LSTM_13', 'LSTM_14', 'LSTM_15', 'LSTM_16', 'LSTM_17',\n",
    "       'LSTM_18', 'LSTM_19', 'LSTM_20', 'LSTM_21', 'LSTM_22', 'LSTM_23',\n",
    "       'LSTM_24', 'LSTM_25', 'LSTM_26', 'LSTM_27']\n",
    "       \n",
    "       \n",
    "\n",
    "### 5. I have used bagging and boosting both algorithm but boosting is performing better than bagging algorithm Model Accuracy on train data -- 83% (XGBoost )\n",
    "\n",
    "\n",
    "\n",
    "### 6. Also done visualization on data and bellow are top 5 actionable insight on data.\n",
    "\n",
    "### A.\n",
    "\n",
    "We see that if we want to see better price distribution we have to scale our price or drop the tail. \n",
    "We will drop the tail, so the values that are above 200 dollars. \n",
    "We are also want to calculate how many wines are more expensive then 200 dolars.\n",
    "As we can see we dropped only 0.59 percent of wines and now we can see that price distribution is also normal.\n",
    "\n",
    "#### B.\n",
    "\n",
    "We can easily note, that the wines in Switzerland are the most expensive one. \n",
    "I think the most impactful factor is much higher prices for all goods in this country.\n",
    "The highest mean of points came to England Based on our data let's try make some guesses why England wines are the best. \n",
    "\n",
    "#### C. \n",
    "\n",
    "England provide information only for thier best wines\n",
    "\n",
    "#### D.\n",
    "We can see that England isn't even in first 20's, so our guess make more sense. ;)\n",
    "\n",
    "#### E. \n",
    "Now we can Identifies that England was first on points ranking, but on points/quality ranking they are the second from the end. \n",
    "So, yeah, they provided information only for let's say 'premium' wines.\n",
    "\n",
    "### 7. Also I have done prediction on test data and train data. \n"
   ]
  },
  {
   "cell_type": "code",
   "execution_count": null,
   "metadata": {},
   "outputs": [],
   "source": []
  }
 ],
 "metadata": {
  "kernelspec": {
   "display_name": "Python 3",
   "language": "python",
   "name": "python3"
  },
  "language_info": {
   "codemirror_mode": {
    "name": "ipython",
    "version": 3
   },
   "file_extension": ".py",
   "mimetype": "text/x-python",
   "name": "python",
   "nbconvert_exporter": "python",
   "pygments_lexer": "ipython3",
   "version": "3.6.6"
  }
 },
 "nbformat": 4,
 "nbformat_minor": 2
}
